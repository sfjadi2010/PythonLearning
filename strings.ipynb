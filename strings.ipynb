{
 "nbformat": 4,
 "nbformat_minor": 2,
 "metadata": {
  "language_info": {
   "name": "python",
   "codemirror_mode": {
    "name": "ipython",
    "version": 3
   },
   "version": "3.7.5-final"
  },
  "orig_nbformat": 2,
  "file_extension": ".py",
  "mimetype": "text/x-python",
  "name": "python",
  "npconvert_exporter": "python",
  "pygments_lexer": "ipython3",
  "version": 3,
  "kernelspec": {
   "name": "python37564bitf134a8c0ad894b24bcea0170ff565578",
   "display_name": "Python 3.7.5 64-bit"
  }
 },
 "cells": [
  {
   "cell_type": "markdown",
   "metadata": {},
   "source": [
    "# String Reference Cheat Sheet"
   ]
  },
  {
   "cell_type": "code",
   "execution_count": null,
   "metadata": {},
   "outputs": [],
   "source": [
    "# In python, there are a log of things you can do with strings. \n",
    "# In this cheat sheet, you'll find the most common string operations and string methods.\n",
    "\n",
    "# String Operations\n",
    "# 1. len(string) Returns the lenght of the string\n",
    "# 2. for character in string iterates over each character in the string\n",
    "# 3. if substring in string Checks whether the substring is part of the string\n",
    "# 4. string[i] Access the character at index i of the string starting at zero\n",
    "# 5. string[i:j] Access the substring starting at index i, ending at index j-1. \n",
    "#    If i is omitted, it's 0 by default. if j is omitted, its len(string) by default.\n",
    "\n",
    "# String methods\n",
    "# 1. string.lower() / string.upper() Returns a copy of the string with all lower / upper case characters\n",
    "# 2. string.lstrip() / string.rstrip() / string.strip() Returns a copy of the string without left / right / left or right whitespace\n",
    "# 3. string.count(substring) Returns the number of times substring is present in the string\n",
    "# 4. string.isnumeric() Returns True if there are only numeric characters in the string. If not, returns False.\n",
    "# 5. string.isalpha() Returns True if there are only alphabetic characters in the string. If not, returns False.\n",
    "# 6. string.split() / string.split(delimiter) Returns a list of substrings that were separated by whitespace / delimiter\n",
    "# 7. string.replace(old, new) Returns a new string where all occurrences of old have been replaced by new.\n",
    "# 8. delimiter.join(list of strings) Returns a new string with all the strings joined by the delimiter\n",
    "\n"
   ]
  },
  {
   "cell_type": "code",
   "execution_count": null,
   "metadata": {},
   "outputs": [
    {
     "ename": "Error",
     "evalue": "Jupyter cannot be started. Error attempting to locate jupyter: 'Kernelspec' module not installed in the selected interpreter ({0}).\n Please re-install or update 'jupyter'.",
     "output_type": "error",
     "traceback": [
      "Error: Jupyter cannot be started. Error attempting to locate jupyter: 'Kernelspec' module not installed in the selected interpreter ({0}).",
      "Please re-install or update 'jupyter'.",
      "at A.startServer (c:\\Users\\sfjad\\.vscode\\extensions\\ms-python.python-2020.2.63072\\out\\client\\extension.js:1:781100)",
      "at async A.ensureServerAndNotebookImpl (c:\\Users\\sfjad\\.vscode\\extensions\\ms-python.python-2020.2.63072\\out\\client\\extension.js:1:780555)",
      "at async A.ensureServerAndNotebook (c:\\Users\\sfjad\\.vscode\\extensions\\ms-python.python-2020.2.63072\\out\\client\\extension.js:1:780356)",
      "at async A.submitCode (c:\\Users\\sfjad\\.vscode\\extensions\\ms-python.python-2020.2.63072\\out\\client\\extension.js:1:777738)",
      "at async A.reexecuteCell (c:\\Users\\sfjad\\.vscode\\extensions\\ms-python.python-2020.2.63072\\out\\client\\extension.js:75:879007)"
     ]
    }
   ],
   "source": [
    "# The is_palindrome function checks if a string is a palindrome. A palindrome is a string that can be equally read from left to right or right to left, omitting blank spaces, and ignoring capitalization. Examples of palindromes are words like kayak and radar, and phrases like \"Never Odd or Even\". Fill in the blanks in this function to return True if the passed string is a palindrome, False if not.\n",
    "\n",
    "def is_palindrome(input_string):\n",
    "\t# We'll create two strings, to compare them\n",
    "\tnew_string = \"\"\n",
    "\treverse_string = \"\"\n",
    "\t# Traverse through each letter of the input string\n",
    "\tfor character in input_string:\n",
    "\t\t# Add any non-blank letters to the \n",
    "\t\t# end of one string, and to the front\n",
    "\t\t# of the other string. \n",
    "\t\tif character != \" \":\n",
    "\t\t\tnew_string += character\n",
    "\t\t\treverse_string = character + reverse_string\n",
    "\t# Compare the strings\n",
    "\tif new_string.lower() == reverse_string.lower():\n",
    "\t\treturn True\n",
    "\treturn False\n",
    "\n",
    "print(is_palindrome(\"Never Odd or Even\")) # Should be True\n",
    "print(is_palindrome(\"abc\")) # Should be False\n",
    "print(is_palindrome(\"kayak\")) # Should be True"
   ]
  },
  {
   "cell_type": "code",
   "execution_count": null,
   "metadata": {},
   "outputs": [
    {
     "ename": "Error",
     "evalue": "Jupyter cannot be started. Error attempting to locate jupyter: 'Kernelspec' module not installed in the selected interpreter ({0}).\n Please re-install or update 'jupyter'.",
     "output_type": "error",
     "traceback": [
      "Error: Jupyter cannot be started. Error attempting to locate jupyter: 'Kernelspec' module not installed in the selected interpreter ({0}).",
      "Please re-install or update 'jupyter'.",
      "at A.startServer (c:\\Users\\sfjad\\.vscode\\extensions\\ms-python.python-2020.2.63072\\out\\client\\extension.js:1:781100)",
      "at async A.ensureServerAndNotebookImpl (c:\\Users\\sfjad\\.vscode\\extensions\\ms-python.python-2020.2.63072\\out\\client\\extension.js:1:780555)",
      "at async A.ensureServerAndNotebook (c:\\Users\\sfjad\\.vscode\\extensions\\ms-python.python-2020.2.63072\\out\\client\\extension.js:1:780356)",
      "at async A.submitCode (c:\\Users\\sfjad\\.vscode\\extensions\\ms-python.python-2020.2.63072\\out\\client\\extension.js:1:777738)",
      "at async A.reexecuteCell (c:\\Users\\sfjad\\.vscode\\extensions\\ms-python.python-2020.2.63072\\out\\client\\extension.js:75:879007)"
     ]
    }
   ],
   "source": [
    "# Using the format method, fill in the gaps in the convert_distance function so that it returns the phrase \"X miles equals Y km\", with Y having only 1 decimal place. For example, convert_distance(12) should return \"12 miles equals 19.2 km\".\n",
    "\n",
    "def convert_distance(miles):\n",
    "\tkm = miles * 1.6 \n",
    "\tresult = \"{} miles equals {:.1f} km\".format(miles, km)\n",
    "\treturn result\n",
    "\n",
    "print(convert_distance(12)) # Should be: 12 miles equals 19.2 km\n",
    "print(convert_distance(5.5)) # Should be: 5.5 miles equals 8.8 km\n",
    "print(convert_distance(11)) # Should be: 11 miles equals 17.6 km"
   ]
  },
  {
   "cell_type": "code",
   "execution_count": null,
   "metadata": {},
   "outputs": [
    {
     "ename": "Error",
     "evalue": "Jupyter cannot be started. Error attempting to locate jupyter: 'Kernelspec' module not installed in the selected interpreter ({0}).\n Please re-install or update 'jupyter'.",
     "output_type": "error",
     "traceback": [
      "Error: Jupyter cannot be started. Error attempting to locate jupyter: 'Kernelspec' module not installed in the selected interpreter ({0}).",
      "Please re-install or update 'jupyter'.",
      "at A.startServer (c:\\Users\\sfjad\\.vscode\\extensions\\ms-python.python-2020.2.63072\\out\\client\\extension.js:1:781100)",
      "at async A.ensureServerAndNotebookImpl (c:\\Users\\sfjad\\.vscode\\extensions\\ms-python.python-2020.2.63072\\out\\client\\extension.js:1:780555)",
      "at async A.ensureServerAndNotebook (c:\\Users\\sfjad\\.vscode\\extensions\\ms-python.python-2020.2.63072\\out\\client\\extension.js:1:780356)",
      "at async A.submitCode (c:\\Users\\sfjad\\.vscode\\extensions\\ms-python.python-2020.2.63072\\out\\client\\extension.js:1:777738)",
      "at async A.reexecuteCell (c:\\Users\\sfjad\\.vscode\\extensions\\ms-python.python-2020.2.63072\\out\\client\\extension.js:75:879007)"
     ]
    }
   ],
   "source": [
    "print(int('1002'))\n",
    "\n",
    "x = int(1)   # x will be 1\n",
    "y = int(2.8) # y will be 2\n",
    "z = int(\"3\") # z will be 3\n",
    "t = type(x)\n",
    "print(\"x\".isdigit())\n"
   ]
  },
  {
   "cell_type": "code",
   "execution_count": null,
   "metadata": {},
   "outputs": [],
   "source": [
    "host_addresses = {\"router\": \"192.168.1.1\", \"localhost\": \"127.0.0.1\", \"google\": \"8.8.8.8\"}\n",
    "host_addresses.keys()"
   ]
  },
  {
   "cell_type": "code",
   "execution_count": null,
   "metadata": {},
   "outputs": [],
   "source": [
    "colors = [\"red\", \"white\", \"blue\"]\n",
    "colors.insert(2, \"yellow\")\n",
    "print(colors)"
   ]
  },
  {
   "cell_type": "code",
   "execution_count": null,
   "metadata": {},
   "outputs": [],
   "source": [
    "animal = \"Hippopotamus\"\n",
    "print(animal[3:6])\n",
    "print(animal[-5])\n",
    "print(animal[10:])"
   ]
  },
  {
   "cell_type": "code",
   "execution_count": null,
   "metadata": {},
   "outputs": [],
   "source": [
    "punctuations = '''!()-[]{};:'\"\\,<>./?@#$%^&*_~'''\n",
    "punctuation_list = [char for char in punctuations]\n",
    "\n",
    "print(punctuation_list)\n"
   ]
  },
  {
   "cell_type": "code",
   "execution_count": null,
   "metadata": {},
   "outputs": [],
   "source": []
  }
 ]
}
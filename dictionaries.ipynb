{
 "nbformat": 4,
 "nbformat_minor": 2,
 "metadata": {
  "language_info": {
   "name": "python",
   "codemirror_mode": {
    "name": "ipython",
    "version": 3
   },
   "version": "3.7.5-final"
  },
  "orig_nbformat": 2,
  "file_extension": ".py",
  "mimetype": "text/x-python",
  "name": "python",
  "npconvert_exporter": "python",
  "pygments_lexer": "ipython3",
  "version": 3,
  "kernelspec": {
   "name": "python37564bitf134a8c0ad894b24bcea0170ff565578",
   "display_name": "Python 3.7.5 64-bit"
  }
 },
 "cells": [
  {
   "cell_type": "markdown",
   "execution_count": null,
   "metadata": {},
   "outputs": [],
   "source": [
    "# Dictionary Methods Cheat Sheet"
   ]
  },
  {
   "cell_type": "code",
   "execution_count": null,
   "metadata": {},
   "outputs": [],
   "source": [
    "# Definition\n",
    "\n",
    "# x = {key1:value1, key2:value2}\n",
    "\n",
    "# Operations\n",
    "\n",
    "# len(dictionary) - Returns the number of items in the dictionary\n",
    "# for key in dictionary - Iterates over each key in the dictionary\n",
    "# for key, value in dictionary.items() - Iterates over each key,value pair in the dictionary\n",
    "# if key in dictionary - Checks whether the key is in the dictionary\n",
    "# dictionary[key] - Accesses the item with key key of the dictionary\n",
    "# dictionary[key] = value - Sets the value associated with key\n",
    "# del dictionary[key] - Removes the item with key key from the dictionary\n",
    "\n",
    "#Methods\n",
    "\n",
    "# dict.get(key, default) - Returns the element corresponding to key, or default if it's not present\n",
    "# dict.keys() - Returns a sequence containing the keys in the dictionary\n",
    "# dict.values() - Returns a sequence containing the values in the dictionary\n",
    "# dict.update(other_dictionary) - Updates the dictionary with the items coming from the other dictionary. Existing entries will be replaced; new entries will be added.\n",
    "# dict.clear() - Removes all the items of the dictionary"
   ]
  },
  {
   "cell_type": "code",
   "execution_count": 1,
   "metadata": {},
   "outputs": [
    {
     "name": "stdout",
     "output_type": "stream",
     "text": "jpg\ntxt\ncsv\npy\n"
    }
   ],
   "source": [
    "file_counts = {\"jpg\": 10, \"txt\":14, \"csv\": 3, \"py\": 23}\n",
    "for extension in file_counts:\n",
    "    print(extension)"
   ]
  },
  {
   "cell_type": "code",
   "execution_count": 3,
   "metadata": {},
   "outputs": [
    {
     "name": "stdout",
     "output_type": "stream",
     "text": "There are 10 files with the .jpg extension\nThere are 14 files with the .txt extension\nThere are 3 files with the .csv extension\nThere are 23 files with the .py extension\n"
    }
   ],
   "source": [
    "for ext, amount in file_counts.items():\n",
    "    print(\"There are {} files with the .{} extension\".format(amount, ext))"
   ]
  },
  {
   "cell_type": "code",
   "execution_count": 9,
   "metadata": {},
   "outputs": [
    {
     "data": {
      "text/plain": "dict_keys(['jpg', 'txt', 'csv', 'py'])"
     },
     "execution_count": 9,
     "metadata": {},
     "output_type": "execute_result"
    }
   ],
   "source": [
    "file_counts.keys()"
   ]
  },
  {
   "cell_type": "code",
   "execution_count": 8,
   "metadata": {},
   "outputs": [
    {
     "data": {
      "text/plain": "dict_values([10, 14, 3, 23])"
     },
     "execution_count": 8,
     "metadata": {},
     "output_type": "execute_result"
    }
   ],
   "source": [
    "file_counts.values()"
   ]
  },
  {
   "cell_type": "code",
   "execution_count": 10,
   "metadata": {},
   "outputs": [
    {
     "data": {
      "text/plain": "{'T': 1,\n 'h': 3,\n 'e': 16,\n ' ': 20,\n 'p': 3,\n 'r': 7,\n 'm': 3,\n 'i': 10,\n 's': 11,\n 'o': 5,\n 'n': 6,\n 'f': 3,\n 'a': 5,\n 'l': 2,\n 'L': 1,\n 'u': 2,\n 'x': 2,\n 'y': 1,\n 't': 8,\n ':': 1,\n 'd': 2,\n ',': 2,\n 'w': 1,\n 'c': 1}"
     },
     "execution_count": 10,
     "metadata": {},
     "output_type": "execute_result"
    }
   ],
   "source": [
    "def count_letters(text):\n",
    "    result = {}\n",
    "    for letter in text:\n",
    "        if letter not in result:\n",
    "            result[letter] = 0\n",
    "        result[letter] += 1\n",
    "    return result\n",
    "\n",
    "count_letters(\"The permissions of a file in a Linux system are split into three sets of three permissions: read, write, and execute\")"
   ]
  },
  {
   "cell_type": "code",
   "execution_count": 13,
   "metadata": {},
   "outputs": [
    {
     "name": "stdout",
     "output_type": "stream",
     "text": "red shirt\nblue shirt\nwhite shirt\nblue jeans\nblack jeans\n"
    }
   ],
   "source": [
    "wardrobe = {\"shirt\":[\"red\",\"blue\",\"white\"], \"jeans\":[\"blue\",\"black\"]}\n",
    "for cloths in wardrobe:\n",
    "    for color in wardrobe[cloths]:\n",
    "        print(\"{} {}\".format(color, cloths))"
   ]
  },
  {
   "cell_type": "code",
   "execution_count": 22,
   "metadata": {},
   "outputs": [
    {
     "name": "stdout",
     "output_type": "stream",
     "text": "{'gmail.com': ['clark.kent', 'diana.prince', 'peter.parker'], 'yahoo.com': ['barbara.gordon', 'jean.grey'], 'hotmail.com': ['bruce.wayne']}\n['clark.kent@gmail.com', 'diana.prince@gmail.com', 'peter.parker@gmail.com', 'barbara.gordon@yahoo.com', 'jean.grey@yahoo.com', 'bruce.wayne@hotmail.com']\n"
    }
   ],
   "source": [
    "# The email_list function receives a dictionary, which contains domain names as keys, and a list of users as values. \n",
    "# Fill in the blanks to generate a list that contains complete email addresses (e.g. diana.prince@gmail.com).\n",
    "\n",
    "def email_list(domains):\n",
    "    emails = []\n",
    "    print(domains)\n",
    "    for domain, users in domains.items():\n",
    "        for user in users:\n",
    "            emails.append(user + \"@\" + domain)\n",
    "    \n",
    "    return(emails)\n",
    "\n",
    "print(email_list({\"gmail.com\": [\"clark.kent\", \"diana.prince\", \"peter.parker\"], \"yahoo.com\": [\"barbara.gordon\", \"jean.grey\"], \"hotmail.com\": [\"bruce.wayne\"]}))\n"
   ]
  },
  {
   "cell_type": "code",
   "execution_count": 32,
   "metadata": {},
   "outputs": [
    {
     "name": "stdout",
     "output_type": "stream",
     "text": "group is not exist\ngroup is not exist\ngroup is not exist\n{'admin': ['local', 'public', 'administrator'], 'userA': ['local', 'public', 'administrator'], 'userB': ['local', 'public', 'administrator']}\n"
    }
   ],
   "source": [
    "# The groups_per_user function receives a dictionary, which contains group names with the list of users.\n",
    "# Users can belong to multiple groups. Fill in the blanks to return a dictionary with the users as keys and a list of their groups as values.\n",
    "\n",
    "def groups_per_user(group_dictionary):\n",
    "    user_groups = {}\n",
    "    groups = []\n",
    "    # Go through group_dictionary\n",
    "    for group, users in group_dictionary.items():\n",
    "        # Now go through the users in the group\n",
    "        for user in users:\n",
    "            # Now add the group to the the list of\n",
    "            user_groups[user] = groups\n",
    "            \n",
    "            # groups for this user, creating the entry\n",
    "            if group not in user_groups[user]:\n",
    "                groups.append(group)\n",
    "                print('group is not exist')\n",
    "            # in the dictionary if necessary\n",
    "    \n",
    "    return(user_groups)\n",
    "\n",
    "print(groups_per_user({\"local\": [\"admin\", \"userA\"],\n",
    "\t\t\"public\":  [\"admin\", \"userB\"],\n",
    "\t\t\"administrator\": [\"admin\"] }))\n"
   ]
  },
  {
   "cell_type": "code",
   "execution_count": null,
   "metadata": {},
   "outputs": [],
   "source": []
  }
 ]
}
{
 "nbformat": 4,
 "nbformat_minor": 2,
 "metadata": {
  "language_info": {
   "name": "python",
   "codemirror_mode": {
    "name": "ipython",
    "version": 3
   },
   "version": "3.7.6-final"
  },
  "orig_nbformat": 2,
  "file_extension": ".py",
  "mimetype": "text/x-python",
  "name": "python",
  "npconvert_exporter": "python",
  "pygments_lexer": "ipython3",
  "version": 3,
  "kernelspec": {
   "name": "python37664bit52e9d47630614883bb3ca2271878325e",
   "display_name": "Python 3.7.6 64-bit"
  }
 },
 "cells": [
  {
   "cell_type": "code",
   "execution_count": 77,
   "metadata": {},
   "outputs": [
    {
     "name": "stdout",
     "output_type": "stream",
     "text": "1 2 3 4 5 6 7"
    }
   ],
   "source": [
    "# Print out the numbers 1 through 7 in one line.\n",
    "\n",
    "number = 1\n",
    "while number <= 7:\n",
    "\tprint(number, end=\" \")\n",
    "\tnumber += 1"
   ]
  },
  {
   "cell_type": "code",
   "execution_count": 78,
   "metadata": {},
   "outputs": [
    {
     "name": "stdout",
     "output_type": "stream",
     "text": "H\ne\nl\nl\no\n"
    }
   ],
   "source": [
    "# The show_letters function should print out each letter of a word on a sepaate line.\n",
    "\n",
    "def show_letters(word):\n",
    "\tfor letter in word:\n",
    "\t\tprint(letter)\n",
    "\n",
    "show_letters(\"Hello\")\n",
    "# Should print one line per letter"
   ]
  },
  {
   "cell_type": "code",
   "execution_count": 79,
   "metadata": {},
   "outputs": [
    {
     "name": "stdout",
     "output_type": "stream",
     "text": "2\n3\n4\n1\n"
    }
   ],
   "source": [
    "#Complete the function digits(n) that returns how many digits the number has. \n",
    "# For example: 25 has 2 digits and 144 has 3 digits. \n",
    "# Tip: you can figure out the digits of a number by dividing it by 10 once per digit until there are no digits left.\n",
    "\n",
    "def digits(n):\n",
    "\tcount = 0\n",
    "\tif n == 0:\n",
    "\t  return 1\n",
    "\twhile (n > 1):\n",
    "\t\tcount += 1\n",
    "\t\tn = n / 10\n",
    "\t\tif n == 1:\n",
    "\t\t  count += 1\n",
    "\treturn count\n",
    "\t\n",
    "print(digits(25))   # Should print 2\n",
    "print(digits(144))  # Should print 3\n",
    "print(digits(1000)) # Should print 4\n",
    "print(digits(0))    # Should print 1"
   ]
  },
  {
   "cell_type": "code",
   "execution_count": 80,
   "metadata": {},
   "outputs": [
    {
     "name": "stdout",
     "output_type": "stream",
     "text": "1 2 3 \n2 4 6 \n3 6 9 \n"
    }
   ],
   "source": [
    "# This function prints out a multiplication table (where each number is the result of multiplying the first number of its row by the number at the top of its column).\n",
    "# Fill in the blanks so that calling multiplication_table(1, 3) will print out:\n",
    "\n",
    "# 1 2 3\n",
    "\n",
    "# 2 4 6\n",
    "\n",
    "# 3 6 9\n",
    "\n",
    "def multiplication_table(start, stop):\n",
    "\tfor x in range(start, stop+1):\n",
    "\t\tfor y in range(start, stop+1):\n",
    "\t\t\tprint(str(x*y), end=\" \")\n",
    "\t\tprint()\n",
    "\n",
    "multiplication_table(1, 3)\n",
    "# Should print the multiplication table shown above"
   ]
  },
  {
   "cell_type": "code",
   "execution_count": 81,
   "metadata": {},
   "outputs": [
    {
     "name": "stdout",
     "output_type": "stream",
     "text": "Counting up: 1,2,3,4,5,6,7,8,9,10\nCounting down: 2,1\nCounting up: 5\n"
    }
   ],
   "source": [
    "# The counter function counts down from start to stop when start is bigger than stop, and counts up from start to stop otherwise.\n",
    "# Fill in the blanks to make this work correctly.\n",
    "\n",
    "def counter(start, stop):\n",
    "\tx = start\n",
    "\tif start > stop:\n",
    "\t\treturn_string = \"Counting down: \"\n",
    "\t\twhile x >= stop:\n",
    "\t\t\treturn_string += str(x)\n",
    "\t\t\tif x > stop:\n",
    "\t\t\t\treturn_string += \",\"\n",
    "\t\t\tx -= 1\n",
    "\telse:\n",
    "\t\treturn_string = \"Counting up: \"\n",
    "\t\twhile x <= stop:\n",
    "\t\t\treturn_string += str(x)\n",
    "\t\t\tif x < stop:\n",
    "\t\t\t\treturn_string += \",\"\n",
    "\t\t\tx +=1\n",
    "\treturn return_string\n",
    "\n",
    "print(counter(1, 10)) # Should be \"Counting up: 1,2,3,4,5,6,7,8,9,10\"\n",
    "print(counter(2, 1)) # Should be \"Counting down: 2,1\"\n",
    "print(counter(5, 5)) # Should be \"Counting up: 5\""
   ]
  },
  {
   "cell_type": "code",
   "execution_count": 83,
   "metadata": {},
   "outputs": [
    {
     "name": "stdout",
     "output_type": "stream",
     "text": "11 8 5\n1 2 3 4\n-1\n10 12 14 16 18 20 22 24\n\n"
    }
   ],
   "source": [
    "# The loop function is similar to range(), but handles the parameters somewhat differently: \n",
    "# it takes in 3 parameters: the starting point, the stopping point, and the increment step.\n",
    "# When the starting point is greater than the stopping point, it forces the steps to be negative.\n",
    "# When, instead, the starting point is less than the stopping point, it forces the step to be positive.\n",
    "# Also, if the step is 0, it changes to 1 or -1. The result is returned as a one-line, space-separated string of numbers.\n",
    "# For example, loop(11,2,3) should return 11 8 5 and loop(1,5,0) should return 1 2 3 4. Fill in the missing parts to make that happen.\n",
    "\n",
    "def loop(start, stop, step):\n",
    "\treturn_string = \"\"\n",
    "\tif step == 0:\n",
    "\t\tstep = 1\n",
    "\tif start > stop:\n",
    "\t\tstep = abs(step) * -1\n",
    "\telse:\n",
    "\t\tstep = abs(step)\n",
    "\tfor count in range(start, stop, step):\n",
    "\t\treturn_string += str(count) + \" \"\n",
    "\treturn return_string.strip()\n",
    "\n",
    "print(loop(11,2,3)) # Should be 11 8 5\n",
    "print(loop(1,5,0)) # Should be 1 2 3 4\n",
    "print(loop(-1,-2,0)) # Should be -1\n",
    "print(loop(10,25,-2)) # Should be 10 12 14 16 18 20 22 24 \n",
    "print(loop(1,1,1)) # Should be empty"
   ]
  },
  {
   "cell_type": "code",
   "execution_count": null,
   "metadata": {},
   "outputs": [],
   "source": [
    "# The following code raises an error when executed. What's the reason for the error?\n",
    "\n",
    "def decade_counter():\n",
    "\twhile year < 50:\n",
    "\t\tyear += 10\n",
    "\treturn year\n",
    "\n",
    "# Failure to initialize"
   ]
  },
  {
   "cell_type": "code",
   "execution_count": null,
   "metadata": {},
   "outputs": [],
   "source": [
    "# What is the value of x at the end of the following code?\n",
    "\n",
    "for x in range(1, 10, 3):\n",
    "    print(x)\n",
    "\n",
    "# result x == 7"
   ]
  },
  {
   "cell_type": "code",
   "execution_count": null,
   "metadata": {},
   "outputs": [],
   "source": [
    "# What is the value of y at the end of the following code?\n",
    "\n",
    "for x in range(10):\n",
    "    for y in range(x):\n",
    "        print(y)\n",
    "\n",
    "# result y = 8"
   ]
  },
  {
   "cell_type": "code",
   "execution_count": null,
   "metadata": {},
   "outputs": [],
   "source": [
    "# How does this function need to be called to print yes, no and maybe as possible options to vote for?\n",
    "\n"
   ]
  }
 ]
}
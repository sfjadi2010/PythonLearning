{
 "nbformat": 4,
 "nbformat_minor": 2,
 "metadata": {
  "language_info": {
   "name": "python",
   "codemirror_mode": {
    "name": "ipython",
    "version": 3
   },
   "version": "3.7.5-final"
  },
  "orig_nbformat": 2,
  "file_extension": ".py",
  "mimetype": "text/x-python",
  "name": "python",
  "npconvert_exporter": "python",
  "pygments_lexer": "ipython3",
  "version": 3,
  "kernelspec": {
   "name": "python37564bitf134a8c0ad894b24bcea0170ff565578",
   "display_name": "Python 3.7.5 64-bit"
  }
 },
 "cells": [
  {
   "cell_type": "code",
   "execution_count": 23,
   "metadata": {},
   "outputs": [
    {
     "name": "stdout",
     "output_type": "stream",
     "text": "house number 123 on street named Main Street \nhouse number 1001 on street named 1st Ave \nhouse number 55 on street named North Center Drive \n"
    }
   ],
   "source": [
    "# 1 - The format_address function separates out parts of the address string into new strings: \n",
    "# house_number and street_name, and returns: \"house number X on street named Y\". The format of the input \n",
    "# string is: numeric house number, followed by the street name which may contain numbers, but never by \n",
    "# themselves, and could be several words long. For example, \"123 Main Street\", \"1001 1st Ave\", or \"55 \n",
    "# North Center Drive\". Fill in the gaps to complete this function.\n",
    "\n",
    "def format_address(address_string):\n",
    "    # Declare variables\n",
    "    house_number = ''\n",
    "    street_name = ''\n",
    "    # Separate the address string into parts\n",
    "    address_parts = address_string.split(' ')\n",
    "    # Traverse through the address parts\n",
    "    for address in address_parts:\n",
    "        # Determine if the address part is the\n",
    "        if address.isnumeric():\n",
    "            house_number = address\n",
    "        else:\n",
    "            # house number or part of the street name\n",
    "            street_name += \"{} \".format(address)\n",
    "    # Does anything else need to be done \n",
    "    # before returning the result?\n",
    "    \n",
    "    # Return the formatted string  \n",
    "    return \"house number {} on street named {}\".format(house_number, street_name)\n",
    "    \n",
    "print(format_address(\"123 Main Street\"))\n",
    "# Should print: \"house number 123 on street named Main Street\"\n",
    "\n",
    "print(format_address(\"1001 1st Ave\"))\n",
    "# Should print: \"house number 1001 on street named 1st Ave\"\n",
    "\n",
    "print(format_address(\"55 North Center Drive\"))\n",
    "# Should print \"house number 55 on street named North Center Drive\"\n"
   ]
  },
  {
   "cell_type": "code",
   "execution_count": 24,
   "metadata": {},
   "outputs": [
    {
     "name": "stdout",
     "output_type": "stream",
     "text": "Have a NICE day\nShhh, don't be so LOUD!\nAutomating with Python is FUN\n"
    }
   ],
   "source": [
    "# 2- The highlight_word function changes the given word in a sentence to its upper-case version. For \n",
    "# example, highlight_word(\"Have a nice day\", \"nice\") returns \"Have a NICE day\". Can you write this \n",
    "# function in just one line?\n",
    "\n",
    "def highlight_word(sentence, word):\n",
    "    return(sentence.replace(word, word.upper()))\n",
    "\n",
    "print(highlight_word(\"Have a nice day\", \"nice\"))\n",
    "print(highlight_word(\"Shhh, don't be so loud!\", \"loud\"))\n",
    "print(highlight_word(\"Automating with Python is fun\", \"fun\"))\n"
   ]
  },
  {
   "cell_type": "code",
   "execution_count": 30,
   "metadata": {},
   "outputs": [
    {
     "name": "stdout",
     "output_type": "stream",
     "text": "<class 'NoneType'>\nEntered List - ['Alice', 'Cindy', 'Bobby', 'Jan', 'Peter']\nReverse List - None \n['Mike', 'Carol', 'Greg', 'Marcia']\n"
    }
   ],
   "source": [
    "# 3 - A professor with two assistants, Jamie and Drew, wants an attendance list of the students, in the \n",
    "# order that they arrived in the classroom. Drew was the first one to note which students arrived, and \n",
    "# then Jamie took over. After the class, they each entered their lists into the computer and emailed them \n",
    "# to the professor, who needs to combine them into one, in the order of each student's arrival. Jamie \n",
    "# emailed a follow-up, saying that her list is in reverse order. Complete the steps to combine them into \n",
    "# one list as follows: the contents of Drew's list, followed by Jamie's list in reverse order, to get an \n",
    "# accurate list of the students as they arrived.\n",
    "\n",
    "def combine_lists(list1, list2):\n",
    "    # Generate a new list containing the elements of list2\n",
    "    # Followed by the elements of list1 in reverse order\n",
    "    \n",
    "    return list2 \n",
    "\n",
    "Jamies_list = [\"Alice\", \"Cindy\", \"Bobby\", \"Jan\", \"Peter\"]\n",
    "Drews_list = [\"Mike\", \"Carol\", \"Greg\", \"Marcia\"]\n",
    "\n",
    "print(combine_lists(Jamies_list, Drews_list))"
   ]
  },
  {
   "cell_type": "code",
   "execution_count": 33,
   "metadata": {},
   "outputs": [
    {
     "name": "stdout",
     "output_type": "stream",
     "text": "[4]\n[1, 4, 9, 16]\n[0, 1, 4, 9, 16, 25, 36, 49, 64, 81]\n"
    }
   ],
   "source": [
    "# 4 - Use a list comprehension to create a list of squared numbers (n*n). The function receives the \n",
    "# variables start and end, and returns a list of squares of consecutive numbers between start and end \n",
    "# inclusively. For example, squares(2, 3) should return [4, 9].\n",
    "\n",
    "def squares(start, end):\n",
    "    return [ n * n for n in range(start, end) ]\n",
    "\n",
    "print(squares(2, 3)) # Should be [4, 9]\\\n",
    "print(squares(1, 5)) # Should be [1, 4, 9, 16, 25]\n",
    "print(squares(0, 10)) # Should be [0, 1, 4, 9, 16, 25, 36, 49, 64, 81, 100]"
   ]
  },
  {
   "cell_type": "code",
   "execution_count": null,
   "metadata": {},
   "outputs": [],
   "source": []
  }
 ]
}
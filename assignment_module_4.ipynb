{
 "nbformat": 4,
 "nbformat_minor": 2,
 "metadata": {
  "language_info": {
   "name": "python",
   "codemirror_mode": {
    "name": "ipython",
    "version": 3
   },
   "version": "3.7.5-final"
  },
  "orig_nbformat": 2,
  "file_extension": ".py",
  "mimetype": "text/x-python",
  "name": "python",
  "npconvert_exporter": "python",
  "pygments_lexer": "ipython3",
  "version": 3,
  "kernelspec": {
   "name": "python37564bitf134a8c0ad894b24bcea0170ff565578",
   "display_name": "Python 3.7.5 64-bit"
  }
 },
 "cells": [
  {
   "cell_type": "code",
   "execution_count": 23,
   "metadata": {},
   "outputs": [
    {
     "name": "stdout",
     "output_type": "stream",
     "text": "house number 123 on street named Main Street \nhouse number 1001 on street named 1st Ave \nhouse number 55 on street named North Center Drive \n"
    }
   ],
   "source": [
    "# 1 - The format_address function separates out parts of the address string into new strings: \n",
    "# house_number and street_name, and returns: \"house number X on street named Y\". The format of the input \n",
    "# string is: numeric house number, followed by the street name which may contain numbers, but never by \n",
    "# themselves, and could be several words long. For example, \"123 Main Street\", \"1001 1st Ave\", or \"55 \n",
    "# North Center Drive\". Fill in the gaps to complete this function.\n",
    "\n",
    "def format_address(address_string):\n",
    "    # Declare variables\n",
    "    house_number = ''\n",
    "    street_name = ''\n",
    "    # Separate the address string into parts\n",
    "    address_parts = address_string.split(' ')\n",
    "    # Traverse through the address parts\n",
    "    for address in address_parts:\n",
    "        # Determine if the address part is the\n",
    "        if address.isnumeric():\n",
    "            house_number = address\n",
    "        else:\n",
    "            # house number or part of the street name\n",
    "            street_name += \"{} \".format(address)\n",
    "    # Does anything else need to be done \n",
    "    # before returning the result?\n",
    "    \n",
    "    # Return the formatted string  \n",
    "    return \"house number {} on street named {}\".format(house_number, street_name)\n",
    "    \n",
    "print(format_address(\"123 Main Street\"))\n",
    "# Should print: \"house number 123 on street named Main Street\"\n",
    "\n",
    "print(format_address(\"1001 1st Ave\"))\n",
    "# Should print: \"house number 1001 on street named 1st Ave\"\n",
    "\n",
    "print(format_address(\"55 North Center Drive\"))\n",
    "# Should print \"house number 55 on street named North Center Drive\"\n"
   ]
  },
  {
   "cell_type": "code",
   "execution_count": 24,
   "metadata": {},
   "outputs": [
    {
     "name": "stdout",
     "output_type": "stream",
     "text": "Have a NICE day\nShhh, don't be so LOUD!\nAutomating with Python is FUN\n"
    }
   ],
   "source": [
    "# 2- The highlight_word function changes the given word in a sentence to its upper-case version. For \n",
    "# example, highlight_word(\"Have a nice day\", \"nice\") returns \"Have a NICE day\". Can you write this \n",
    "# function in just one line?\n",
    "\n",
    "def highlight_word(sentence, word):\n",
    "    return(sentence.replace(word, word.upper()))\n",
    "\n",
    "print(highlight_word(\"Have a nice day\", \"nice\"))\n",
    "print(highlight_word(\"Shhh, don't be so loud!\", \"loud\"))\n",
    "print(highlight_word(\"Automating with Python is fun\", \"fun\"))\n"
   ]
  },
  {
   "cell_type": "code",
   "execution_count": 40,
   "metadata": {},
   "outputs": [
    {
     "name": "stdout",
     "output_type": "stream",
     "text": "['Mike', 'Carol', 'Greg', 'Marcia', 'Peter', 'Jan', 'Bobby', 'Cindy', 'Alice']\n"
    }
   ],
   "source": [
    "# 3 - A professor with two assistants, Jamie and Drew, wants an attendance list of the students, in the \n",
    "# order that they arrived in the classroom. Drew was the first one to note which students arrived, and \n",
    "# then Jamie took over. After the class, they each entered their lists into the computer and emailed them \n",
    "# to the professor, who needs to combine them into one, in the order of each student's arrival. Jamie \n",
    "# emailed a follow-up, saying that her list is in reverse order. Complete the steps to combine them into \n",
    "# one list as follows: the contents of Drew's list, followed by Jamie's list in reverse order, to get an \n",
    "# accurate list of the students as they arrived.\n",
    "\n",
    "def combine_lists(list1, list2):\n",
    "    # Generate a new list containing the elements of list2\n",
    "    # Followed by the elements of list1 in reverse order\n",
    "    list1.reverse()\n",
    "   \n",
    "    return list2 + list1\n",
    "\n",
    "Jamies_list = [\"Alice\", \"Cindy\", \"Bobby\", \"Jan\", \"Peter\"]\n",
    "Drews_list = [\"Mike\", \"Carol\", \"Greg\", \"Marcia\"]\n",
    "\n",
    "print(combine_lists(Jamies_list, Drews_list))"
   ]
  },
  {
   "cell_type": "code",
   "execution_count": 34,
   "metadata": {},
   "outputs": [
    {
     "name": "stdout",
     "output_type": "stream",
     "text": "[4, 9]\n[1, 4, 9, 16, 25]\n[0, 1, 4, 9, 16, 25, 36, 49, 64, 81, 100]\n"
    }
   ],
   "source": [
    "# 4 - Use a list comprehension to create a list of squared numbers (n*n). The function receives the \n",
    "# variables start and end, and returns a list of squares of consecutive numbers between start and end \n",
    "# inclusively. For example, squares(2, 3) should return [4, 9].\n",
    "\n",
    "def squares(start, end):\n",
    "    return [ n * n for n in range(start, end + 1) ]\n",
    "\n",
    "print(squares(2, 3)) # Should be [4, 9]\\\n",
    "print(squares(1, 5)) # Should be [1, 4, 9, 16, 25]\n",
    "print(squares(0, 10)) # Should be [0, 1, 4, 9, 16, 25, 36, 49, 64, 81, 100]"
   ]
  },
  {
   "cell_type": "code",
   "execution_count": 35,
   "metadata": {},
   "outputs": [
    {
     "name": "stdout",
     "output_type": "stream",
     "text": "Kia Soul costs 19000 dollars\nLamborghini Diablo costs 55000 dollars\nFord Fiesta costs 13000 dollars\nToyota Prius costs 24000 dollars\n\n"
    }
   ],
   "source": [
    "# 5 - Complete the code to iterate through the keys and values of the car_prices dictionary, printing out \n",
    "# some information about each one.\n",
    "\n",
    "def car_listing(car_prices):\n",
    "    result = \"\"\n",
    "    for key, value in car_prices.items():\n",
    "        result += \"{} costs {} dollars\".format(key, value) + \"\\n\"\n",
    "    return result\n",
    "    \n",
    "print(car_listing({\"Kia Soul\":19000, \"Lamborghini Diablo\":55000, \"Ford Fiesta\":13000, \"Toyota Prius\":24000}))"
   ]
  },
  {
   "cell_type": "code",
   "execution_count": 38,
   "metadata": {},
   "outputs": [
    {
     "name": "stdout",
     "output_type": "stream",
     "text": "{'Adam': 2, 'Brenda': 3, 'David': 1, 'Jose': 3, 'Charlotte': 2, 'Terry': 1, 'Robert': 4, 'Nancy': 1, 'Samantha': 3, 'Chris': 5}\n"
    }
   ],
   "source": [
    "# 6 - Taylor and Rory are hosting a party. They sent out invitations, and each one collected responses \n",
    "# into dictionaries, with names of their friends and how many guests each friend is bringing. Each \n",
    "# dictionary is a partial list, but Rory's list has more current information about the number of guests. \n",
    "# Fill in the blanks to combine both dictionaries into one, with each friend listed only once, and the \n",
    "# number of guests from Rory's dictionary taking precedence, if a name is included in both dictionaries. \n",
    "# Then print the resulting dictionary.\n",
    "\n",
    "def combine_guests(guests1, guests2):\n",
    "    # Combine both dictionaries into one, with each key listed \n",
    "    # only once, and the value from guests1 taking precedence\n",
    "    final_guests = {}\n",
    "\n",
    "    for guest, friends in guests1.items():\n",
    "        final_guests[guest] = friends\n",
    "    \n",
    "    for guest, friends in guests2.items():\n",
    "        if (guest not in final_guests):\n",
    "            final_guests[guest] = friends\n",
    "    \n",
    "    return final_guests\n",
    "\n",
    "Rorys_guests = { \"Adam\":2, \"Brenda\":3, \"David\":1, \"Jose\":3, \"Charlotte\":2, \"Terry\":1, \"Robert\":4}\n",
    "Taylors_guests = { \"David\":4, \"Nancy\":1, \"Robert\":2, \"Adam\":1, \"Samantha\":3, \"Chris\":5}\n",
    "print(combine_guests(Rorys_guests, Taylors_guests))\n"
   ]
  },
  {
   "cell_type": "code",
   "execution_count": 41,
   "metadata": {},
   "outputs": [
    {
     "name": "stdout",
     "output_type": "stream",
     "text": "{'a': 2, 'b': 2, 'c': 2}\n{'m': 1, 'a': 1, 't': 1, 'h': 1, 'i': 1, 's': 1, 'f': 1, 'u': 1, 'n': 1}\n{'t': 2, 'h': 1, 'i': 2, 's': 3, 'a': 1, 'e': 3, 'n': 2, 'c': 1}\n"
    }
   ],
   "source": [
    "# 7 - Use a dictionary to count the frequency of letters in the input string. Only letters should be \n",
    "# counted, not blank spaces, numbers, or punctuation. Upper case should be considered the same as lower \n",
    "# case. For example, count_letters(\"This is a sentence.\") should return {'t': 2, 'h': 1, 'i': 2, 's': 3, \n",
    "# 'a': 1, 'e': 3, 'n': 2, 'c': 1}.\n",
    "\n",
    "def count_letters(text):\n",
    "    result = {}\n",
    "    # Go through each letter in the text\n",
    "    for letter in text:\n",
    "        # Check if the letter needs to be counted or not\n",
    "        if letter.isalpha():\n",
    "            if letter.lower() not in result:\n",
    "                result[letter.lower()] = 0\n",
    "            # Add or increment the value in the dictionary\n",
    "            result[letter.lower()] += 1\n",
    "    return result\n",
    "    \n",
    "print(count_letters(\"AaBbCc\"))\n",
    "# Should be {'a': 2, 'b': 2, 'c': 2}\n",
    "\n",
    "print(count_letters(\"Math is fun! 2+2=4\"))\n",
    "# Should be {'m': 1, 'a': 1, 't': 1, 'h': 1, 'i': 1, 's': 1, 'f': 1, 'u': 1, 'n': 1}\n",
    "\n",
    "print(count_letters(\"This is a sentence.\"))\n",
    "# Should be {'t': 2, 'h': 1, 'i': 2, 's': 3, 'a': 1, 'e': 3, 'n': 2, 'c': 1}\n"
   ]
  },
  {
   "cell_type": "code",
   "execution_count": null,
   "metadata": {},
   "outputs": [],
   "source": [
    "# 8 - What do the following commands return when animal = \"Hippopotamus\"?\n",
    "\n",
    "print(animal[3:6])\n",
    "print(animal[-5])\n",
    "print(animal[10:])\n",
    "\n",
    "# 1 - ppo, t, mus\n",
    "# 2 - ppop, o, s\n",
    "# 3 - pop, t, us\n",
    "# 4 - popo, t, mus\n",
    "\n"
   ]
  },
  {
   "cell_type": "code",
   "execution_count": null,
   "metadata": {},
   "outputs": [],
   "source": [
    "# 9 - What does the list \"colors\" contain after these commands are executed?\n",
    "colors = [\"red\", \"white\", \"blue\"]\n",
    "colors.insert(2, \"yellow\")\n",
    "\n",
    "# 1 - ['red', 'white', 'yellow', 'blue']\n",
    "# 2 - ['red', 'yellow', 'white', 'blue']\n",
    "# 3 - ['red', 'yellow', 'blue']\n",
    "# 4 - ['red', 'white', 'yellow']\n"
   ]
  },
  {
   "cell_type": "code",
   "execution_count": 42,
   "metadata": {},
   "outputs": [
    {
     "data": {
      "text/plain": "dict_keys(['router', 'localhost', 'google'])"
     },
     "execution_count": 42,
     "metadata": {},
     "output_type": "execute_result"
    }
   ],
   "source": [
    "# 10 What do the following commands return?\n",
    "\n",
    "host_addresses = {\"router\": \"192.168.1.1\", \"localhost\": \"127.0.0.1\", \"google\": \"8.8.8.8\"}\n",
    "host_addresses.keys()\n",
    "\n",
    "# 1 - {\"router\": \"192.168.1.1\", \"localhost\": \"127.0.0.1\", \"google\": \"8.8.8.8\"}\n",
    "# 2 - [\"router\": \"192.168.1.1\", \"localhost\": \"127.0.0.1\", \"google\": \"8.8.8.8\"]\n",
    "# 3 - [\"192.168.1.1\",\"127.0.0.1\",\"8.8.8.8\"]\n",
    "# 4 - [\"router\", \"localhost\", \"google\"]"
   ]
  },
  {
   "cell_type": "code",
   "execution_count": null,
   "metadata": {},
   "outputs": [],
   "source": []
  }
 ]
}
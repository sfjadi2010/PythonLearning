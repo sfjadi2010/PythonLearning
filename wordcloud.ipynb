{
 "nbformat": 4,
 "nbformat_minor": 2,
 "metadata": {
  "language_info": {
   "name": "python",
   "codemirror_mode": {
    "name": "ipython",
    "version": 3
   },
   "version": "3.7.5-final"
  },
  "orig_nbformat": 2,
  "file_extension": ".py",
  "mimetype": "text/x-python",
  "name": "python",
  "npconvert_exporter": "python",
  "pygments_lexer": "ipython3",
  "version": 3,
  "kernelspec": {
   "name": "python37564bitf134a8c0ad894b24bcea0170ff565578",
   "display_name": "Python 3.7.5 64-bit"
  }
 },
 "cells": [
  {
   "cell_type": "code",
   "execution_count": 1,
   "metadata": {},
   "outputs": [
    {
     "name": "stdout",
     "output_type": "stream",
     "text": "Collecting wordcloud\n  Downloading https://files.pythonhosted.org/packages/96/36/f712ec19c6e253d27c5cae0d45a4a465ebb5ccf0cb26887a6a3127d13769/wordcloud-1.6.0-cp37-cp37m-win_amd64.whl (153kB)\nRequirement already satisfied: numpy>=1.6.1 in c:\\users\\sfjad\\appdata\\local\\programs\\python\\python37\\lib\\site-packages (from wordcloud) (1.18.1)\nCollecting pillow\n  Downloading https://files.pythonhosted.org/packages/88/6b/66f502b5ea615f69433ae1e23ec786b2cdadbe41a5cfb1e1fabb4f9c6ce9/Pillow-7.0.0-cp37-cp37m-win_amd64.whl (2.0MB)\nRequirement already satisfied: matplotlib in c:\\users\\sfjad\\appdata\\local\\programs\\python\\python37\\lib\\site-packages (from wordcloud) (3.1.2)\nRequirement already satisfied: pyparsing!=2.0.4,!=2.1.2,!=2.1.6,>=2.0.1 in c:\\users\\sfjad\\appdata\\local\\programs\\python\\python37\\lib\\site-packages (from matplotlib->wordcloud) (2.4.6)\nRequirement already satisfied: cycler>=0.10 in c:\\users\\sfjad\\appdata\\local\\programs\\python\\python37\\lib\\site-packages (from matplotlib->wordcloud) (0.10.0)\nRequirement already satisfied: python-dateutil>=2.1 in c:\\users\\sfjad\\appdata\\roaming\\python\\python37\\site-packages (from matplotlib->wordcloud) (2.8.1)\nRequirement already satisfied: kiwisolver>=1.0.1 in c:\\users\\sfjad\\appdata\\local\\programs\\python\\python37\\lib\\site-packages (from matplotlib->wordcloud) (1.1.0)\nRequirement already satisfied: six in c:\\users\\sfjad\\appdata\\roaming\\python\\python37\\site-packages (from cycler>=0.10->matplotlib->wordcloud) (1.13.0)\nRequirement already satisfied: setuptools in c:\\users\\sfjad\\appdata\\local\\programs\\python\\python37\\lib\\site-packages (from kiwisolver>=1.0.1->matplotlib->wordcloud) (41.2.0)\nInstalling collected packages: pillow, wordcloud\nSuccessfully installed pillow-7.0.0 wordcloud-1.6.0\nWARNING: You are using pip version 19.3.1; however, version 20.0.2 is available.\nYou should consider upgrading via the 'python -m pip install --upgrade pip' command.\nCollecting fileupload\n  Downloading https://files.pythonhosted.org/packages/43/19/014a32d2f435d29a5fb43a487d42a9afa2c188df56d152306de11a112178/fileupload-0.1.5-py2.py3-none-any.whl\nRequirement already satisfied: traitlets>=4.2 in c:\\users\\sfjad\\appdata\\roaming\\python\\python37\\site-packages (from fileupload) (4.3.3)\nRequirement already satisfied: notebook>=4.2 in c:\\users\\sfjad\\appdata\\roaming\\python\\python37\\site-packages (from fileupload) (6.0.2)\nRequirement already satisfied: ipywidgets>=5.1 in c:\\users\\sfjad\\appdata\\roaming\\python\\python37\\site-packages (from fileupload) (7.5.1)\nRequirement already satisfied: ipython-genutils in c:\\users\\sfjad\\appdata\\roaming\\python\\python37\\site-packages (from traitlets>=4.2->fileupload) (0.2.0)\nRequirement already satisfied: six in c:\\users\\sfjad\\appdata\\roaming\\python\\python37\\site-packages (from traitlets>=4.2->fileupload) (1.13.0)\nRequirement already satisfied: decorator in c:\\users\\sfjad\\appdata\\roaming\\python\\python37\\site-packages (from traitlets>=4.2->fileupload) (4.4.1)\nRequirement already satisfied: jupyter-core>=4.6.0 in c:\\users\\sfjad\\appdata\\roaming\\python\\python37\\site-packages (from notebook>=4.2->fileupload) (4.6.1)\nRequirement already satisfied: nbformat in c:\\users\\sfjad\\appdata\\roaming\\python\\python37\\site-packages (from notebook>=4.2->fileupload) (5.0.3)\nRequirement already satisfied: prometheus-client in c:\\users\\sfjad\\appdata\\roaming\\python\\python37\\site-packages (from notebook>=4.2->fileupload) (0.7.1)\nRequirement already satisfied: nbconvert in c:\\users\\sfjad\\appdata\\roaming\\python\\python37\\site-packages (from notebook>=4.2->fileupload) (5.6.1)\nRequirement already satisfied: Send2Trash in c:\\users\\sfjad\\appdata\\roaming\\python\\python37\\site-packages (from notebook>=4.2->fileupload) (1.5.0)\nRequirement already satisfied: jupyter-client>=5.3.4 in c:\\users\\sfjad\\appdata\\roaming\\python\\python37\\site-packages (from notebook>=4.2->fileupload) (5.3.4)\nRequirement already satisfied: pyzmq>=17 in c:\\users\\sfjad\\appdata\\roaming\\python\\python37\\site-packages (from notebook>=4.2->fileupload) (18.1.1)\nRequirement already satisfied: ipykernel in c:\\users\\sfjad\\appdata\\roaming\\python\\python37\\site-packages (from notebook>=4.2->fileupload) (5.1.3)\nRequirement already satisfied: jinja2 in c:\\users\\sfjad\\appdata\\roaming\\python\\python37\\site-packages (from notebook>=4.2->fileupload) (2.10.3)\nRequirement already satisfied: tornado>=5.0 in c:\\users\\sfjad\\appdata\\roaming\\python\\python37\\site-packages (from notebook>=4.2->fileupload) (6.0.3)\nRequirement already satisfied: terminado>=0.8.1 in c:\\users\\sfjad\\appdata\\roaming\\python\\python37\\site-packages (from notebook>=4.2->fileupload) (0.8.3)\nRequirement already satisfied: ipython>=4.0.0; python_version >= \"3.3\" in c:\\users\\sfjad\\appdata\\roaming\\python\\python37\\site-packages (from ipywidgets>=5.1->fileupload) (7.11.1)\nRequirement already satisfied: widgetsnbextension~=3.5.0 in c:\\users\\sfjad\\appdata\\roaming\\python\\python37\\site-packages (from ipywidgets>=5.1->fileupload) (3.5.1)\nRequirement already satisfied: pywin32>=1.0; sys_platform == \"win32\" in c:\\users\\sfjad\\appdata\\roaming\\python\\python37\\site-packages (from jupyter-core>=4.6.0->notebook>=4.2->fileupload) (227)\nRequirement already satisfied: jsonschema!=2.5.0,>=2.4 in c:\\users\\sfjad\\appdata\\roaming\\python\\python37\\site-packages (from nbformat->notebook>=4.2->fileupload) (3.2.0)\nRequirement already satisfied: entrypoints>=0.2.2 in c:\\users\\sfjad\\appdata\\roaming\\python\\python37\\site-packages (from nbconvert->notebook>=4.2->fileupload) (0.3)\nRequirement already satisfied: pandocfilters>=1.4.1 in c:\\users\\sfjad\\appdata\\roaming\\python\\python37\\site-packages (from nbconvert->notebook>=4.2->fileupload) (1.4.2)\nRequirement already satisfied: mistune<2,>=0.8.1 in c:\\users\\sfjad\\appdata\\roaming\\python\\python37\\site-packages (from nbconvert->notebook>=4.2->fileupload) (0.8.4)\nRequirement already satisfied: pygments in c:\\users\\sfjad\\appdata\\roaming\\python\\python37\\site-packages (from nbconvert->notebook>=4.2->fileupload) (2.5.2)\nRequirement already satisfied: bleach in c:\\users\\sfjad\\appdata\\roaming\\python\\python37\\site-packages (from nbconvert->notebook>=4.2->fileupload) (3.1.0)\nRequirement already satisfied: defusedxml in c:\\users\\sfjad\\appdata\\roaming\\python\\python37\\site-packages (from nbconvert->notebook>=4.2->fileupload) (0.6.0)\nRequirement already satisfied: testpath in c:\\users\\sfjad\\appdata\\roaming\\python\\python37\\site-packages (from nbconvert->notebook>=4.2->fileupload) (0.4.4)\nRequirement already satisfied: python-dateutil>=2.1 in c:\\users\\sfjad\\appdata\\roaming\\python\\python37\\site-packages (from jupyter-client>=5.3.4->notebook>=4.2->fileupload) (2.8.1)\nRequirement already satisfied: MarkupSafe>=0.23 in c:\\users\\sfjad\\appdata\\roaming\\python\\python37\\site-packages (from jinja2->notebook>=4.2->fileupload) (1.1.1)\nRequirement already satisfied: pywinpty>=0.5; os_name == \"nt\" in c:\\users\\sfjad\\appdata\\roaming\\python\\python37\\site-packages (from terminado>=0.8.1->notebook>=4.2->fileupload) (0.5.7)\nRequirement already satisfied: backcall in c:\\users\\sfjad\\appdata\\roaming\\python\\python37\\site-packages (from ipython>=4.0.0; python_version >= \"3.3\"->ipywidgets>=5.1->fileupload) (0.1.0)\nRequirement already satisfied: setuptools>=18.5 in c:\\users\\sfjad\\appdata\\local\\programs\\python\\python37\\lib\\site-packages (from ipython>=4.0.0; python_version >= \"3.3\"->ipywidgets>=5.1->fileupload) (41.2.0)\nRequirement already satisfied: prompt-toolkit!=3.0.0,!=3.0.1,<3.1.0,>=2.0.0 in c:\\users\\sfjad\\appdata\\roaming\\python\\python37\\site-packages (from ipython>=4.0.0; python_version >= \"3.3\"->ipywidgets>=5.1->fileupload) (2.0.10)\nRequirement already satisfied: jedi>=0.10 in c:\\users\\sfjad\\appdata\\roaming\\python\\python37\\site-packages (from ipython>=4.0.0; python_version >= \"3.3\"->ipywidgets>=5.1->fileupload) (0.15.2)\nRequirement already satisfied: colorama; sys_platform == \"win32\" in c:\\users\\sfjad\\appdata\\roaming\\python\\python37\\site-packages (from ipython>=4.0.0; python_version >= \"3.3\"->ipywidgets>=5.1->fileupload) (0.4.3)\nRequirement already satisfied: pickleshare in c:\\users\\sfjad\\appdata\\roaming\\python\\python37\\site-packages (from ipython>=4.0.0; python_version >= \"3.3\"->ipywidgets>=5.1->fileupload) (0.7.5)\nRequirement already satisfied: importlib-metadata; python_version < \"3.8\" in c:\\users\\sfjad\\appdata\\roaming\\python\\python37\\site-packages (from jsonschema!=2.5.0,>=2.4->nbformat->notebook>=4.2->fileupload) (1.3.0)\nRequirement already satisfied: attrs>=17.4.0 in c:\\users\\sfjad\\appdata\\roaming\\python\\python37\\site-packages (from jsonschema!=2.5.0,>=2.4->nbformat->notebook>=4.2->fileupload) (19.3.0)\nRequirement already satisfied: pyrsistent>=0.14.0 in c:\\users\\sfjad\\appdata\\roaming\\python\\python37\\site-packages (from jsonschema!=2.5.0,>=2.4->nbformat->notebook>=4.2->fileupload) (0.15.7)\nRequirement already satisfied: webencodings in c:\\users\\sfjad\\appdata\\roaming\\python\\python37\\site-packages (from bleach->nbconvert->notebook>=4.2->fileupload) (0.5.1)\nRequirement already satisfied: wcwidth in c:\\users\\sfjad\\appdata\\roaming\\python\\python37\\site-packages (from prompt-toolkit!=3.0.0,!=3.0.1,<3.1.0,>=2.0.0->ipython>=4.0.0; python_version >= \"3.3\"->ipywidgets>=5.1->fileupload) (0.1.8)\nRequirement already satisfied: parso>=0.5.2 in c:\\users\\sfjad\\appdata\\roaming\\python\\python37\\site-packages (from jedi>=0.10->ipython>=4.0.0; python_version >= \"3.3\"->ipywidgets>=5.1->fileupload) (0.5.2)\nRequirement already satisfied: zipp>=0.5 in c:\\users\\sfjad\\appdata\\roaming\\python\\python37\\site-packages (from importlib-metadata; python_version < \"3.8\"->jsonschema!=2.5.0,>=2.4->nbformat->notebook>=4.2->fileupload) (0.6.0)\nRequirement already satisfied: more-itertools in c:\\users\\sfjad\\appdata\\roaming\\python\\python37\\site-packages (from zipp>=0.5->importlib-metadata; python_version < \"3.8\"->jsonschema!=2.5.0,>=2.4->nbformat->notebook>=4.2->fileupload) (8.0.2)\nInstalling collected packages: fileupload\nSuccessfully installed fileupload-0.1.5\nWARNING: You are using pip version 19.3.1; however, version 20.0.2 is available.\nYou should consider upgrading via the 'python -m pip install --upgrade pip' command.\nRequirement already satisfied: ipywidgets in c:\\users\\sfjad\\appdata\\roaming\\python\\python37\\site-packages (7.5.1)\nRequirement already satisfied: ipykernel>=4.5.1 in c:\\users\\sfjad\\appdata\\roaming\\python\\python37\\site-packages (from ipywidgets) (5.1.3)\nRequirement already satisfied: nbformat>=4.2.0 in c:\\users\\sfjad\\appdata\\roaming\\python\\python37\\site-packages (from ipywidgets) (5.0.3)\nRequirement already satisfied: ipython>=4.0.0; python_version >= \"3.3\" in c:\\users\\sfjad\\appdata\\roaming\\python\\python37\\site-packages (from ipywidgets) (7.11.1)\nRequirement already satisfied: widgetsnbextension~=3.5.0 in c:\\users\\sfjad\\appdata\\roaming\\python\\python37\\site-packages (from ipywidgets) (3.5.1)\nRequirement already satisfied: traitlets>=4.3.1 in c:\\users\\sfjad\\appdata\\roaming\\python\\python37\\site-packages (from ipywidgets) (4.3.3)\nRequirement already satisfied: jupyter-client in c:\\users\\sfjad\\appdata\\roaming\\python\\python37\\site-packages (from ipykernel>=4.5.1->ipywidgets) (5.3.4)\nRequirement already satisfied: tornado>=4.2 in c:\\users\\sfjad\\appdata\\roaming\\python\\python37\\site-packages (from ipykernel>=4.5.1->ipywidgets) (6.0.3)\nRequirement already satisfied: ipython-genutils in c:\\users\\sfjad\\appdata\\roaming\\python\\python37\\site-packages (from nbformat>=4.2.0->ipywidgets) (0.2.0)\nRequirement already satisfied: jsonschema!=2.5.0,>=2.4 in c:\\users\\sfjad\\appdata\\roaming\\python\\python37\\site-packages (from nbformat>=4.2.0->ipywidgets) (3.2.0)\nRequirement already satisfied: jupyter-core in c:\\users\\sfjad\\appdata\\roaming\\python\\python37\\site-packages (from nbformat>=4.2.0->ipywidgets) (4.6.1)\nRequirement already satisfied: jedi>=0.10 in c:\\users\\sfjad\\appdata\\roaming\\python\\python37\\site-packages (from ipython>=4.0.0; python_version >= \"3.3\"->ipywidgets) (0.15.2)\nRequirement already satisfied: setuptools>=18.5 in c:\\users\\sfjad\\appdata\\local\\programs\\python\\python37\\lib\\site-packages (from ipython>=4.0.0; python_version >= \"3.3\"->ipywidgets) (41.2.0)\nRequirement already satisfied: pickleshare in c:\\users\\sfjad\\appdata\\roaming\\python\\python37\\site-packages (from ipython>=4.0.0; python_version >= \"3.3\"->ipywidgets) (0.7.5)\nRequirement already satisfied: backcall in c:\\users\\sfjad\\appdata\\roaming\\python\\python37\\site-packages (from ipython>=4.0.0; python_version >= \"3.3\"->ipywidgets) (0.1.0)\nRequirement already satisfied: colorama; sys_platform == \"win32\" in c:\\users\\sfjad\\appdata\\roaming\\python\\python37\\site-packages (from ipython>=4.0.0; python_version >= \"3.3\"->ipywidgets) (0.4.3)\nRequirement already satisfied: decorator in c:\\users\\sfjad\\appdata\\roaming\\python\\python37\\site-packages (from ipython>=4.0.0; python_version >= \"3.3\"->ipywidgets) (4.4.1)\nRequirement already satisfied: pygments in c:\\users\\sfjad\\appdata\\roaming\\python\\python37\\site-packages (from ipython>=4.0.0; python_version >= \"3.3\"->ipywidgets) (2.5.2)\nRequirement already satisfied: prompt-toolkit!=3.0.0,!=3.0.1,<3.1.0,>=2.0.0 in c:\\users\\sfjad\\appdata\\roaming\\python\\python37\\site-packages (from ipython>=4.0.0; python_version >= \"3.3\"->ipywidgets) (2.0.10)\nRequirement already satisfied: notebook>=4.4.1 in c:\\users\\sfjad\\appdata\\roaming\\python\\python37\\site-packages (from widgetsnbextension~=3.5.0->ipywidgets) (6.0.2)\nRequirement already satisfied: six in c:\\users\\sfjad\\appdata\\roaming\\python\\python37\\site-packages (from traitlets>=4.3.1->ipywidgets) (1.13.0)\nRequirement already satisfied: pyzmq>=13 in c:\\users\\sfjad\\appdata\\roaming\\python\\python37\\site-packages (from jupyter-client->ipykernel>=4.5.1->ipywidgets) (18.1.1)\nRequirement already satisfied: pywin32>=1.0; sys_platform == \"win32\" in c:\\users\\sfjad\\appdata\\roaming\\python\\python37\\site-packages (from jupyter-client->ipykernel>=4.5.1->ipywidgets) (227)\nRequirement already satisfied: python-dateutil>=2.1 in c:\\users\\sfjad\\appdata\\roaming\\python\\python37\\site-packages (from jupyter-client->ipykernel>=4.5.1->ipywidgets) (2.8.1)\nRequirement already satisfied: attrs>=17.4.0 in c:\\users\\sfjad\\appdata\\roaming\\python\\python37\\site-packages (from jsonschema!=2.5.0,>=2.4->nbformat>=4.2.0->ipywidgets) (19.3.0)\nRequirement already satisfied: importlib-metadata; python_version < \"3.8\" in c:\\users\\sfjad\\appdata\\roaming\\python\\python37\\site-packages (from jsonschema!=2.5.0,>=2.4->nbformat>=4.2.0->ipywidgets) (1.3.0)\nRequirement already satisfied: pyrsistent>=0.14.0 in c:\\users\\sfjad\\appdata\\roaming\\python\\python37\\site-packages (from jsonschema!=2.5.0,>=2.4->nbformat>=4.2.0->ipywidgets) (0.15.7)\nRequirement already satisfied: parso>=0.5.2 in c:\\users\\sfjad\\appdata\\roaming\\python\\python37\\site-packages (from jedi>=0.10->ipython>=4.0.0; python_version >= \"3.3\"->ipywidgets) (0.5.2)\nRequirement already satisfied: wcwidth in c:\\users\\sfjad\\appdata\\roaming\\python\\python37\\site-packages (from prompt-toolkit!=3.0.0,!=3.0.1,<3.1.0,>=2.0.0->ipython>=4.0.0; python_version >= \"3.3\"->ipywidgets) (0.1.8)\nRequirement already satisfied: prometheus-client in c:\\users\\sfjad\\appdata\\roaming\\python\\python37\\site-packages (from notebook>=4.4.1->widgetsnbextension~=3.5.0->ipywidgets) (0.7.1)\nRequirement already satisfied: Send2Trash in c:\\users\\sfjad\\appdata\\roaming\\python\\python37\\site-packages (from notebook>=4.4.1->widgetsnbextension~=3.5.0->ipywidgets) (1.5.0)\nRequirement already satisfied: jinja2 in c:\\users\\sfjad\\appdata\\roaming\\python\\python37\\site-packages (from notebook>=4.4.1->widgetsnbextension~=3.5.0->ipywidgets) (2.10.3)\nRequirement already satisfied: nbconvert in c:\\users\\sfjad\\appdata\\roaming\\python\\python37\\site-packages (from notebook>=4.4.1->widgetsnbextension~=3.5.0->ipywidgets) (5.6.1)\nRequirement already satisfied: terminado>=0.8.1 in c:\\users\\sfjad\\appdata\\roaming\\python\\python37\\site-packages (from notebook>=4.4.1->widgetsnbextension~=3.5.0->ipywidgets) (0.8.3)\nRequirement already satisfied: zipp>=0.5 in c:\\users\\sfjad\\appdata\\roaming\\python\\python37\\site-packages (from importlib-metadata; python_version < \"3.8\"->jsonschema!=2.5.0,>=2.4->nbformat>=4.2.0->ipywidgets) (0.6.0)\nRequirement already satisfied: MarkupSafe>=0.23 in c:\\users\\sfjad\\appdata\\roaming\\python\\python37\\site-packages (from jinja2->notebook>=4.4.1->widgetsnbextension~=3.5.0->ipywidgets) (1.1.1)\nRequirement already satisfied: mistune<2,>=0.8.1 in c:\\users\\sfjad\\appdata\\roaming\\python\\python37\\site-packages (from nbconvert->notebook>=4.4.1->widgetsnbextension~=3.5.0->ipywidgets) (0.8.4)\nRequirement already satisfied: bleach in c:\\users\\sfjad\\appdata\\roaming\\python\\python37\\site-packages (from nbconvert->notebook>=4.4.1->widgetsnbextension~=3.5.0->ipywidgets) (3.1.0)\nRequirement already satisfied: pandocfilters>=1.4.1 in c:\\users\\sfjad\\appdata\\roaming\\python\\python37\\site-packages (from nbconvert->notebook>=4.4.1->widgetsnbextension~=3.5.0->ipywidgets) (1.4.2)\nRequirement already satisfied: defusedxml in c:\\users\\sfjad\\appdata\\roaming\\python\\python37\\site-packages (from nbconvert->notebook>=4.4.1->widgetsnbextension~=3.5.0->ipywidgets) (0.6.0)\nRequirement already satisfied: testpath in c:\\users\\sfjad\\appdata\\roaming\\python\\python37\\site-packages (from nbconvert->notebook>=4.4.1->widgetsnbextension~=3.5.0->ipywidgets) (0.4.4)\nRequirement already satisfied: entrypoints>=0.2.2 in c:\\users\\sfjad\\appdata\\roaming\\python\\python37\\site-packages (from nbconvert->notebook>=4.4.1->widgetsnbextension~=3.5.0->ipywidgets) (0.3)\nRequirement already satisfied: pywinpty>=0.5; os_name == \"nt\" in c:\\users\\sfjad\\appdata\\roaming\\python\\python37\\site-packages (from terminado>=0.8.1->notebook>=4.4.1->widgetsnbextension~=3.5.0->ipywidgets) (0.5.7)\nRequirement already satisfied: more-itertools in c:\\users\\sfjad\\appdata\\roaming\\python\\python37\\site-packages (from zipp>=0.5->importlib-metadata; python_version < \"3.8\"->jsonschema!=2.5.0,>=2.4->nbformat>=4.2.0->ipywidgets) (8.0.2)\nRequirement already satisfied: webencodings in c:\\users\\sfjad\\appdata\\roaming\\python\\python37\\site-packages (from bleach->nbconvert->notebook>=4.4.1->widgetsnbextension~=3.5.0->ipywidgets) (0.5.1)\nWARNING: You are using pip version 19.3.1; however, version 20.0.2 is available.\nYou should consider upgrading via the 'python -m pip install --upgrade pip' command.\n'jupyter' is not recognized as an internal or external command,\noperable program or batch file.\n'jupyter' is not recognized as an internal or external command,\noperable program or batch file.\n"
    },
    {
     "ename": "ModuleNotFoundError",
     "evalue": "No module named 'wordcloud'",
     "output_type": "error",
     "traceback": [
      "\u001b[1;31m---------------------------------------------------------------------------\u001b[0m",
      "\u001b[1;31mModuleNotFoundError\u001b[0m                       Traceback (most recent call last)",
      "\u001b[1;32m<ipython-input-1-b307209b0d99>\u001b[0m in \u001b[0;36m<module>\u001b[1;34m\u001b[0m\n\u001b[0;32m      7\u001b[0m \u001b[0mget_ipython\u001b[0m\u001b[1;33m(\u001b[0m\u001b[1;33m)\u001b[0m\u001b[1;33m.\u001b[0m\u001b[0msystem\u001b[0m\u001b[1;33m(\u001b[0m\u001b[1;34m'jupyter nbextension enable --py fileupload'\u001b[0m\u001b[1;33m)\u001b[0m\u001b[1;33m\u001b[0m\u001b[1;33m\u001b[0m\u001b[0m\n\u001b[0;32m      8\u001b[0m \u001b[1;33m\u001b[0m\u001b[0m\n\u001b[1;32m----> 9\u001b[1;33m \u001b[1;32mimport\u001b[0m \u001b[0mwordcloud\u001b[0m\u001b[1;33m\u001b[0m\u001b[1;33m\u001b[0m\u001b[0m\n\u001b[0m\u001b[0;32m     10\u001b[0m \u001b[1;32mimport\u001b[0m \u001b[0mnumpy\u001b[0m \u001b[1;32mas\u001b[0m \u001b[0mnp\u001b[0m\u001b[1;33m\u001b[0m\u001b[1;33m\u001b[0m\u001b[0m\n\u001b[0;32m     11\u001b[0m \u001b[1;32mfrom\u001b[0m \u001b[0mmatplotlib\u001b[0m \u001b[1;32mimport\u001b[0m \u001b[0mpyplot\u001b[0m \u001b[1;32mas\u001b[0m \u001b[0mplt\u001b[0m\u001b[1;33m\u001b[0m\u001b[1;33m\u001b[0m\u001b[0m\n",
      "\u001b[1;31mModuleNotFoundError\u001b[0m: No module named 'wordcloud'"
     ]
    }
   ],
   "source": [
    "# Here are all the installs and imports you will need for your word cloud script and uploader widget\n",
    "\n",
    "!pip install wordcloud\n",
    "!pip install fileupload\n",
    "!pip install ipywidgets\n",
    "!jupyter nbextension install --py --user fileupload\n",
    "!jupyter nbextension enable --py fileupload\n",
    "\n",
    "import wordcloud\n",
    "import numpy as np\n",
    "from matplotlib import pyplot as plt\n",
    "from IPython.display import display\n",
    "import fileupload\n",
    "import io\n",
    "import sys"
   ]
  },
  {
   "cell_type": "code",
   "execution_count": null,
   "metadata": {},
   "outputs": [],
   "source": [
    "# This is the uploader widget\n",
    "\n",
    "def _upload():\n",
    "\n",
    "    _upload_widget = fileupload.FileUploadWidget()\n",
    "\n",
    "    def _cb(change):\n",
    "        global file_contents\n",
    "        decoded = io.StringIO(change['owner'].data.decode('utf-8'))\n",
    "        filename = change['owner'].filename\n",
    "        print('Uploaded `{}` ({:.2f} kB)'.format(\n",
    "            filename, len(decoded.read()) / 2 **10))\n",
    "        file_contents = decoded.getvalue()\n",
    "\n",
    "    _upload_widget.observe(_cb, names='data')\n",
    "    display(_upload_widget)\n",
    "\n",
    "_upload()"
   ]
  },
  {
   "cell_type": "code",
   "execution_count": null,
   "metadata": {},
   "outputs": [],
   "source": [
    "def calculate_frequencies(file_contents):\n",
    "    # Here is a list of punctuations and uninteresting words you can use to process your text\n",
    "    punctuations = '''!()-[]{};:'\"\\,<>./?@#$%^&*_~'''\n",
    "    uninteresting_words = [\"the\", \"a\", \"to\", \"if\", \"is\", \"it\", \"of\", \"and\", \"or\", \"an\", \"as\", \"i\", \"me\", \"my\", \\\n",
    "    \"we\", \"our\", \"ours\", \"you\", \"your\", \"yours\", \"he\", \"she\", \"him\", \"his\", \"her\", \"hers\", \"its\", \"they\", \"them\", \\\n",
    "    \"their\", \"what\", \"which\", \"who\", \"whom\", \"this\", \"that\", \"am\", \"are\", \"was\", \"were\", \"be\", \"been\", \"being\", \\\n",
    "    \"have\", \"has\", \"had\", \"do\", \"does\", \"did\", \"but\", \"at\", \"by\", \"with\", \"from\", \"here\", \"when\", \"where\", \"how\", \\\n",
    "    \"all\", \"any\", \"both\", \"each\", \"few\", \"more\", \"some\", \"such\", \"no\", \"nor\", \"too\", \"very\", \"can\", \"will\", \"just\"]\n",
    "    \n",
    "    # LEARNER CODE START HERE\n",
    "    \n",
    "    # book url --- http://www.gutenberg.org/cache/epub/61380/pg61380.txt\n",
    "\n",
    "    \n",
    "    #wordcloud\n",
    "    cloud = wordcloud.WordCloud()\n",
    "    cloud.generate_from_frequencies()\n",
    "    return cloud.to_array()"
   ]
  },
  {
   "cell_type": "code",
   "execution_count": null,
   "metadata": {},
   "outputs": [],
   "source": [
    "# Display your wordcloud image\n",
    "\n",
    "myimage = calculate_frequencies(file_contents)\n",
    "plt.imshow(myimage, interpolation = 'nearest')\n",
    "plt.axis('off')\n",
    "plt.show()"
   ]
  }
 ]
}
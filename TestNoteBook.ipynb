{
 "nbformat": 4,
 "nbformat_minor": 2,
 "metadata": {
  "language_info": {
   "name": "python",
   "codemirror_mode": {
    "name": "ipython",
    "version": 3
   },
   "version": "3.7.6-final"
  },
  "orig_nbformat": 2,
  "file_extension": ".py",
  "mimetype": "text/x-python",
  "name": "python",
  "npconvert_exporter": "python",
  "pygments_lexer": "ipython3",
  "version": 3,
  "kernelspec": {
   "name": "python37664bit52e9d47630614883bb3ca2271878325e",
   "display_name": "Python 3.7.6 64-bit"
  }
 },
 "cells": [
  {
   "cell_type": "code",
   "execution_count": 13,
   "metadata": {},
   "outputs": [
    {
     "name": "stdout",
     "output_type": "stream",
     "text": "['Pineapple', 'Banana', 'Apple', 'Melon', 'Kiwi']\n['Orange', 'Pineapple', 'Banana', 'Apple', 'Melon', 'Kiwi']\n['Orange', 'Pineapple', 'Banana', 'Apple', 'Melon', 'Kiwi', 'Peach']\n['Orange', 'Pineapple', 'Banana', 'Apple', 'Melon', 'Kiwi', 'Strawberry', 'Peach']\n"
    }
   ],
   "source": [
    "fruits = [\"Pineapple\", \"Banana\", \"Apple\", \"Melon\"]\n",
    "fruits.append(\"Kiwi\")\n",
    "print(fruits)\n",
    "\n",
    "fruits.insert(0, \"Orange\")\n",
    "print(fruits)\n",
    "\n",
    "fruits.insert(25, \"Peach\")\n",
    "print(fruits)\n",
    "\n",
    "fruits.insert(-1, \"Strawberry\")\n",
    "print(fruits)"
   ]
  },
  {
   "cell_type": "code",
   "execution_count": 14,
   "metadata": {},
   "outputs": [
    {
     "name": "stdout",
     "output_type": "stream",
     "text": "Marketing: Mike, Karen, Jake, Tasha\nEngineering: Kim, Jay, Tom\nUsers: \n"
    }
   ],
   "source": [
    "def group_list(group, users):\n",
    "    members = group + \": \" + \", \".join(users)\n",
    "    return members\n",
    "\n",
    "print(group_list(\"Marketing\", [\"Mike\", \"Karen\", \"Jake\", \"Tasha\"])) # Should be \"Marketing: Mike, Karen, Jake, Tasha\"\n",
    "print(group_list(\"Engineering\", [\"Kim\", \"Jay\", \"Tom\"])) # Should be \"Engineering: Kim, Jay, Tom\"\n",
    "print(group_list(\"Users\", \"\")) # Should be \"Users:\""
   ]
  },
  {
   "cell_type": "code",
   "execution_count": 12,
   "metadata": {},
   "outputs": [
    {
     "name": "stdout",
     "output_type": "stream",
     "text": "['a', 'b', 'c', 'd', 'e', 'f', 'g']\n['Orange', 'Pineapple', 'Strawberry', 'Kiwi', 'Peach']\n[]\n"
    }
   ],
   "source": [
    "def skip_elements(elements):\n",
    "\t# code goes here\n",
    "    new_list = elements\n",
    "    return new_list\n",
    "\n",
    "print(skip_elements([\"a\", \"b\", \"c\", \"d\", \"e\", \"f\", \"g\"])) # Should be ['a', 'c', 'e', 'g']\n",
    "print(skip_elements(['Orange', 'Pineapple', 'Strawberry', 'Kiwi', 'Peach'])) # Should be ['Orange', 'Strawberry', 'Peach']\n",
    "print(skip_elements([])) # Should be []"
   ]
  },
  {
   "cell_type": "code",
   "execution_count": null,
   "metadata": {},
   "outputs": [],
   "source": []
  }
 ]
}
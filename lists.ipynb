{
 "nbformat": 4,
 "nbformat_minor": 2,
 "metadata": {
  "language_info": {
   "name": "python",
   "codemirror_mode": {
    "name": "ipython",
    "version": 3
   },
   "version": "3.7.5-final"
  },
  "orig_nbformat": 2,
  "file_extension": ".py",
  "mimetype": "text/x-python",
  "name": "python",
  "npconvert_exporter": "python",
  "pygments_lexer": "ipython3",
  "version": 3,
  "kernelspec": {
   "name": "python37564bitf134a8c0ad894b24bcea0170ff565578",
   "display_name": "Python 3.7.5 64-bit"
  }
 },
 "cells": [
  {
   "cell_type": "markdown",
   "execution_count": null,
   "metadata": {},
   "outputs": [],
   "source": [
    "# Lists and Tuples Operations Cheat Sheet"
   ]
  },
  {
   "cell_type": "code",
   "execution_count": 1,
   "metadata": {},
   "outputs": [],
   "source": [
    "# List and tuples are both sequences, so they share a number of sequence operations. But, because lists are mutable, there are also a number of methods specific just to lists.\n",
    "# This cheat sheet gives you a run down of the common operations first, and the list-spefic operations second.\n",
    "\n",
    "# Common sequence operations\n",
    "\n",
    "# 1. len(sequence) - Return the length of the sequence\n",
    "# 2. for element in sequence Iterates over each element in the sequence\n",
    "# 3. if element in sequence Check whether the element is part of the sequence\n",
    "# 4. sequence[i] Access the element at index i of the sequence, starting at zero\n",
    "# 5. sequence[i:j] Access a slice starting at index i, ending at index j-1, if i is omitted, it's 0 by default. If j is omitted, it's len(sequence) by default.\n",
    "# 6. for index, element in enumerate(sequence) iterates over both the indexs and the elements in the sequence at the same time\n",
    "\n",
    "# List-specific opertions and methods\n",
    "# 1. list[i] = x replace the element at index i with x\n",
    "# 2. list.append(x) Inserts x a the end of the list\n",
    "# 3. list.insert(i,x) Inserts x at index i\n",
    "# 4. list.pop(i) Returns the element a index, i also removing it from the list. if i is omitted, the last element is returned and removed.\n",
    "# 5. list.remove(x) Removes the first occurrence of x in the list\n",
    "# 6. list.sort() Sorts the items in the list\n",
    "# 7. list.reverse() Reverses the order of items of the list\n",
    "# 8. list.clear() removes all the items of the list\n",
    "# 9. list.copy() Create a copy of the lsit\n",
    "# 10. list.extend(other_list) Appends all the elements of other_list at the end of the list\n",
    "\n",
    "# Most of these methods come from the fact that lists are mutable sequences.\n",
    "\n",
    "# List comprehension\n",
    "# [expression for variable in sequence] Create a new list based on the give sequence. Each element is the result of the given expression.\n",
    "# [expression for varialbe in sequence if condition] Creates a new list based on the give sequence. Each element is the result of the given expression; elements only get added if the conditoin is true."
   ]
  },
  {
   "cell_type": "code",
   "execution_count": 2,
   "metadata": {},
   "outputs": [
    {
     "name": "stdout",
     "output_type": "stream",
     "text": "Marketing: Mike, Karen, Jake, Tasha\nEngineering: Kim, Jay, Tom\nUsers: \n"
    }
   ],
   "source": [
    "def group_list(group, users):\n",
    "    members = group + \": \" + \", \".join(users)\n",
    "    return members\n",
    "\n",
    "print(group_list(\"Marketing\", [\"Mike\", \"Karen\", \"Jake\", \"Tasha\"])) # Should be \"Marketing: Mike, Karen, Jake, Tasha\"\n",
    "print(group_list(\"Engineering\", [\"Kim\", \"Jay\", \"Tom\"])) # Should be \"Engineering: Kim, Jay, Tom\"\n",
    "print(group_list(\"Users\", \"\")) # Should be \"Users:\""
   ]
  },
  {
   "cell_type": "code",
   "execution_count": 3,
   "metadata": {},
   "outputs": [
    {
     "name": "stdout",
     "output_type": "stream",
     "text": "['a', 'c', 'e', 'g']\n['Orange', 'Strawberry', 'Peach']\n[]\n"
    }
   ],
   "source": [
    "def skip_elements_1(elements):\n",
    "\t# code goes here\n",
    "    new_list = []\n",
    "    for item in range(len(elements)):\n",
    "        if (item % 2 == 0):\n",
    "            new_list.append(elements[item])\n",
    "    return new_list\n",
    "\n",
    "print(skip_elements_1([\"a\", \"b\", \"c\", \"d\", \"e\", \"f\", \"g\"])) # Should be ['a', 'c', 'e', 'g']\n",
    "print(skip_elements_1(['Orange', 'Pineapple', 'Strawberry', 'Kiwi', 'Peach'])) # Should be ['Orange', 'Strawberry', 'Peach']\n",
    "print(skip_elements_1([])) # Should be []"
   ]
  },
  {
   "cell_type": "code",
   "execution_count": 4,
   "metadata": {},
   "outputs": [
    {
     "name": "stdout",
     "output_type": "stream",
     "text": "Ken is 30 years old and work as Chef\nPat is 35 years old and work as Lawyer\nAmanda is 25 years old and work as Engineer\n"
    }
   ],
   "source": [
    "def guest_list(guests):\n",
    "    for guest in guests:\n",
    "        name, age, profession = guest\n",
    "        print(\"{} is {} years old and work as {}\".format(name, age, profession))\n",
    "\n",
    "guest_list([('Ken', 30, \"Chef\"), (\"Pat\", 35, 'Lawyer'), ('Amanda', 25, \"Engineer\")])"
   ]
  },
  {
   "cell_type": "code",
   "execution_count": 5,
   "metadata": {},
   "outputs": [
    {
     "name": "stdout",
     "output_type": "stream",
     "text": "Total characters: 26, Average length : 5.2\n"
    }
   ],
   "source": [
    "animals = [\"Lion\", \"Zebra\", \"Monkey\", \"Donkey\", \"Tiger\"]\n",
    "chars = 0\n",
    "\n",
    "for animal in animals:\n",
    "    chars += len(animal)\n",
    "\n",
    "print(\"Total characters: {}, Average length : {}\".format(chars, chars/len(animals)))"
   ]
  },
  {
   "cell_type": "code",
   "execution_count": 6,
   "metadata": {},
   "outputs": [
    {
     "name": "stdout",
     "output_type": "stream",
     "text": "1 - Ashley\n2 - Dylan\n3 - Reese\n"
    }
   ],
   "source": [
    "winners = [\"Ashley\", \"Dylan\", \"Reese\"]\n",
    "for index, person in enumerate(winners):\n",
    "    print(\"{} - {}\".format(index + 1, person))"
   ]
  },
  {
   "cell_type": "code",
   "execution_count": 7,
   "metadata": {},
   "outputs": [
    {
     "name": "stdout",
     "output_type": "stream",
     "text": "['a', 'c', 'e', 'g']\n['Orange', 'Strawberry', 'Peach']\n"
    }
   ],
   "source": [
    "def skip_elements_2(elements):\n",
    "    # code goes here\n",
    "    new_elements = []\n",
    "    for index, element in enumerate(elements):\n",
    "        if index % 2 == 0:\n",
    "            new_elements.append(element)\n",
    "    return new_elements\n",
    "\n",
    "print(skip_elements_2([\"a\", \"b\", \"c\", \"d\", \"e\", \"f\", \"g\"])) # Should be ['a', 'c', 'e', 'g']\n",
    "print(skip_elements_2(['Orange', 'Pineapple', 'Strawberry', 'Kiwi', 'Peach'])) # Should be ['Orange', 'Strawberry', 'Peach']"
   ]
  },
  {
   "cell_type": "code",
   "execution_count": 8,
   "metadata": {},
   "outputs": [
    {
     "name": "stdout",
     "output_type": "stream",
     "text": "['Salman Farsi <sfjadi@gmail.com>', 'Farsi Salman <sfjadi2010@live.com>']\n"
    }
   ],
   "source": [
    "def full_emails(people):\n",
    "    result = []\n",
    "    for emial, name in people:\n",
    "        result.append(\"{} <{}>\".format(name, emial))\n",
    "    return result\n",
    "\n",
    "print(full_emails([(\"sfjadi@gmail.com\", \"Salman Farsi\"), (\"sfjadi2010@live.com\", \"Farsi Salman\")]))"
   ]
  },
  {
   "cell_type": "code",
   "execution_count": 9,
   "metadata": {},
   "outputs": [
    {
     "name": "stdout",
     "output_type": "stream",
     "text": "[7, 14, 21, 28, 35, 42, 49, 56, 63, 70]\n[6, 4, 4, 2, 4, 1]\n[0, 3, 6, 9, 12, 15, 18, 21, 24, 27, 30, 33, 36, 39, 42, 45, 48, 51, 54, 57, 60, 63, 66, 69, 72, 75, 78, 81, 84, 87, 90, 93, 96, 99]\n"
    }
   ],
   "source": [
    "# List Comprehensions - Let us create new lists based on sequences or ranges\n",
    "\n",
    "multiples = [ x*7 for x in range(1,11)]\n",
    "print(multiples)\n",
    "\n",
    "languages = [\"Python\", \"Perl\", \"Ruby\", \"Go\", \"Java\", \"C\"]\n",
    "lengths = [len(language) for language in languages]\n",
    "\n",
    "print(lengths)\n",
    "\n",
    "z = [x for x in range(0,101) if x % 3 == 0]\n",
    "print(z)"
   ]
  },
  {
   "cell_type": "code",
   "execution_count": 10,
   "metadata": {},
   "outputs": [
    {
     "name": "stdout",
     "output_type": "stream",
     "text": "['a', 'c', 'e', 'g']\n['Orange', 'Strawberry', 'Peach']\n"
    }
   ],
   "source": [
    "def skip_elements(elements):\n",
    "    return [elements[x] for x in range(len(elements)) if x % 2 == 0]\n",
    "    \n",
    "print(skip_elements([\"a\", \"b\", \"c\", \"d\", \"e\", \"f\", \"g\"])) # Should be ['a', 'c', 'e', 'g']\n",
    "print(skip_elements(['Orange', 'Pineapple', 'Strawberry', 'Kiwi', 'Peach'])) # Should be ['Orange', 'Strawberry', 'Peach']"
   ]
  },
  {
   "cell_type": "code",
   "execution_count": 11,
   "metadata": {},
   "outputs": [
    {
     "name": "stdout",
     "output_type": "stream",
     "text": "[('program.c', 'program.c'), ('stdio.hpp', 'stdio.h'), ('sample.hpp', 'sample.h'), ('a.out', 'a.out'), ('math.hpp', 'math.h'), ('hpp.out', 'hpp.out')]\n"
    }
   ],
   "source": [
    "filenames = [\"program.c\", \"stdio.hpp\", \"sample.hpp\", \"a.out\", \"math.hpp\", \"hpp.out\"]\n",
    "newfilenames = []\n",
    "\n",
    "for index in range(len(filenames)):\n",
    "    new_filename = filenames[index]\n",
    "    \n",
    "    if '.hpp' in new_filename:\n",
    "        new_filename = new_filename.replace('.hpp', '.h')\n",
    "\n",
    "    newfilenames.append((filenames[index], new_filename))\n",
    "\n",
    "print (newfilenames) # Should be [('program.c', 'program.c'), ('stdio.hpp', 'stdio.h'), ('sample.hpp', 'sample.h'), ('a.out', 'a.out'), ('math.hpp', 'math.h'), ('hpp.out', 'hpp.out')]"
   ]
  },
  {
   "cell_type": "code",
   "execution_count": 12,
   "metadata": {},
   "outputs": [
    {
     "name": "stdout",
     "output_type": "stream",
     "text": "rwxr-xr-x\nrw-r--r--\nrwxr-x---\nrw-------\n"
    }
   ],
   "source": [
    "# The permissions of a file in a Linux system are split into three sets of three permissions: read, write, and execute\n",
    "# for the owner, group, and others. Each of the three values can be expressed as an octal number summing each\n",
    "# permission, with 4 corresponding to read, 2 to write, and 1 to execute. Or it can be written with a string using the\n",
    "# letters r, w, and x or - when the permission is not granted. For example: 640 is read/write for the owner, read for\n",
    "# the group, and no permissions for the others; converted to a string, it would be: \"rw-r-----\" 755 is read/write/\n",
    "# xecute for the owner, and read/execute for group and others; converted to a string, it would be: \"rwxr-xr-x\" Fill in\n",
    "# the blanks to make the code convert a permission in octal format into a string format.\n",
    "\n",
    "def octal_to_string(octal):\n",
    "    result = \"\"\n",
    "    value_letters = [(4,\"r\"),(2,\"w\"),(1,\"x\")]\n",
    "    # Iterate over each of the digits in octal\n",
    "    for permission in [int(n) for n in str(octal)]:\n",
    "        # Check for each of the permissions values\n",
    "        for value, letter in value_letters:\n",
    "            if permission >= value:\n",
    "                result += letter\n",
    "                permission -= value\n",
    "            else:\n",
    "                result += '-'\n",
    "    return result\n",
    "    \n",
    "print(octal_to_string(755)) # Should be rwxr-xr-x\n",
    "print(octal_to_string(644)) # Should be rw-r--r--\n",
    "print(octal_to_string(750)) # Should be rwxr-x---\n",
    "print(octal_to_string(600)) # Should be rw-------"
   ]
  },
  {
   "cell_type": "code",
   "execution_count": 13,
   "metadata": {},
   "outputs": [
    {
     "name": "stdout",
     "output_type": "stream",
     "text": "ellohay owhay reaay ouyay \nrogrammingpay niay ythonpay siay unfay \n"
    }
   ],
   "source": [
    "# Let's create a function that turns text into pig latin: a simple text transformation that modifies each\n",
    "# word moving the first character to the end and appending \"ay\" to the end. For example, python ends up as ythonpay.\n",
    "\n",
    "def pig_latin(text):\n",
    "    say = \"\"\n",
    "    # Separate the text into words\n",
    "    words = text.split(' ')\n",
    "\n",
    "    for word in words:\n",
    "        # Create the pig latin word and add it to the list\n",
    "        say += word[1:] + word[0] + \"ay \"\n",
    "        # Turn the list back into a phrase\n",
    "    return say\n",
    "\t\t\n",
    "print(pig_latin(\"hello how are you\")) # Should be \"ellohay owhay reaay ouyay\"\n",
    "print(pig_latin(\"programming in python is fun\")) # Should be \"rogrammingpay niay ythonpay siay unfay\""
   ]
  },
  {
   "cell_type": "code",
   "execution_count": null,
   "metadata": {},
   "outputs": [],
   "source": []
  }
 ]
}
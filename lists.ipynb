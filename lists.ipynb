{
 "nbformat": 4,
 "nbformat_minor": 2,
 "metadata": {
  "language_info": {
   "name": "python",
   "codemirror_mode": {
    "name": "ipython",
    "version": 3
   },
   "version": "3.7.6-final"
  },
  "orig_nbformat": 2,
  "file_extension": ".py",
  "mimetype": "text/x-python",
  "name": "python",
  "npconvert_exporter": "python",
  "pygments_lexer": "ipython3",
  "version": 3,
  "kernelspec": {
   "name": "python37664bit6af084848f90472087dc40ceee7a97c6",
   "display_name": "Python 3.7.6 64-bit"
  }
 },
 "cells": [
  {
   "cell_type": "markdown",
   "execution_count": null,
   "metadata": {},
   "outputs": [],
   "source": [
    "# Lists and Tuples Operations Cheat Sheet"
   ]
  },
  {
   "cell_type": "code",
   "execution_count": 15,
   "metadata": {},
   "outputs": [],
   "source": [
    "# List and tuples are both sequences, so they share a number of sequence operations. But, because lists are mutable, there are also a number of methods specific just to lists.\n",
    "# This cheat sheet gives you a run down of the common operations first, and the list-spefic operations second.\n",
    "\n",
    "# Common sequence operations\n",
    "\n",
    "# 1. len(sequence) - Return the length of the sequence\n",
    "# 2. for element in sequence Iterates over each element in the sequence\n",
    "# 3. if element in sequence Check whether the element is part of the sequence\n",
    "# 4. sequence[i] Access the element at index i of the sequence, starting at zero\n",
    "# 5. sequence[i:j] Access a slice starting at index i, ending at index j-1, if i is omitted, it's 0 by default. If j is omitted, it's len(sequence) by default.\n",
    "# 6. for index, element in enumerate(sequence) iterates over both the indexs and the elements in the sequence at the same time\n",
    "\n",
    "# List-specific opertions and methods\n",
    "# 1. list[i] = x replace the element at index i with x\n",
    "# 2. list.append(x) Inserts x a the end of the list\n",
    "# 3. list.insert(i,x) Inserts x at index i\n",
    "# 4. list.pop(i) Returns the element a index, i also removing it from the list. if i is omitted, the last element is returned and removed.\n",
    "# 5. list.remove(x) Removes the first occurrence of x in the list\n",
    "# 6. list.sort() Sorts the items in the list\n",
    "# 7. list.reverse() Reverses the order of items of the list\n",
    "# 8. list.clear() removes all the items of the list\n",
    "# 9. list.copy() Create a copy of the lsit\n",
    "# 10. list.extend(other_list) Appends all the elements of other_list at the end of the list\n",
    "\n",
    "# Most of these methods come from the fact that lists are mutable sequences.\n",
    "\n",
    "# List comprehension\n",
    "# [expression for variable in sequence] Create a new list based on the give sequence. Each element is the result of the given expression.\n",
    "# [expression for varialbe in sequence if condition] Creates a new list based on the give sequence. Each element is the result of the given expression; elements only get added if the conditoin is true."
   ]
  },
  {
   "cell_type": "code",
   "execution_count": 16,
   "metadata": {},
   "outputs": [
    {
     "name": "stdout",
     "output_type": "stream",
     "text": "Marketing: Mike, Karen, Jake, Tasha\nEngineering: Kim, Jay, Tom\nUsers: \n"
    }
   ],
   "source": [
    "def group_list(group, users):\n",
    "    members = group + \": \" + \", \".join(users)\n",
    "    return members\n",
    "\n",
    "print(group_list(\"Marketing\", [\"Mike\", \"Karen\", \"Jake\", \"Tasha\"])) # Should be \"Marketing: Mike, Karen, Jake, Tasha\"\n",
    "print(group_list(\"Engineering\", [\"Kim\", \"Jay\", \"Tom\"])) # Should be \"Engineering: Kim, Jay, Tom\"\n",
    "print(group_list(\"Users\", \"\")) # Should be \"Users:\""
   ]
  },
  {
   "cell_type": "code",
   "execution_count": 17,
   "metadata": {},
   "outputs": [
    {
     "name": "stdout",
     "output_type": "stream",
     "text": "['a', 'c', 'e', 'g']\n['Orange', 'Strawberry', 'Peach']\n[]\n"
    }
   ],
   "source": [
    "def skip_elements_1(elements):\n",
    "\t# code goes here\n",
    "    new_list = []\n",
    "    for item in range(len(elements)):\n",
    "        if (item % 2 == 0):\n",
    "            new_list.append(elements[item])\n",
    "    return new_list\n",
    "\n",
    "print(skip_elements_1([\"a\", \"b\", \"c\", \"d\", \"e\", \"f\", \"g\"])) # Should be ['a', 'c', 'e', 'g']\n",
    "print(skip_elements_1(['Orange', 'Pineapple', 'Strawberry', 'Kiwi', 'Peach'])) # Should be ['Orange', 'Strawberry', 'Peach']\n",
    "print(skip_elements_1([])) # Should be []"
   ]
  },
  {
   "cell_type": "code",
   "execution_count": 18,
   "metadata": {},
   "outputs": [
    {
     "name": "stdout",
     "output_type": "stream",
     "text": "Ken is 30 years old and work as Chef\nPat is 35 years old and work as Lawyer\nAmanda is 25 years old and work as Engineer\n"
    }
   ],
   "source": [
    "def guest_list(guests):\n",
    "    for guest in guests:\n",
    "        name, age, profession = guest\n",
    "        print(\"{} is {} years old and work as {}\".format(name, age, profession))\n",
    "\n",
    "guest_list([('Ken', 30, \"Chef\"), (\"Pat\", 35, 'Lawyer'), ('Amanda', 25, \"Engineer\")])"
   ]
  },
  {
   "cell_type": "code",
   "execution_count": 19,
   "metadata": {},
   "outputs": [
    {
     "name": "stdout",
     "output_type": "stream",
     "text": "Total characters: 26, Average length : 5.2\n"
    }
   ],
   "source": [
    "animals = [\"Lion\", \"Zebra\", \"Monkey\", \"Donkey\", \"Tiger\"]\n",
    "chars = 0\n",
    "\n",
    "for animal in animals:\n",
    "    chars += len(animal)\n",
    "\n",
    "print(\"Total characters: {}, Average length : {}\".format(chars, chars/len(animals)))"
   ]
  },
  {
   "cell_type": "code",
   "execution_count": 20,
   "metadata": {},
   "outputs": [
    {
     "name": "stdout",
     "output_type": "stream",
     "text": "1 - Ashley\n2 - Dylan\n3 - Reese\n"
    }
   ],
   "source": [
    "winners = [\"Ashley\", \"Dylan\", \"Reese\"]\n",
    "for index, person in enumerate(winners):\n",
    "    print(\"{} - {}\".format(index + 1, person))"
   ]
  },
  {
   "cell_type": "code",
   "execution_count": 21,
   "metadata": {},
   "outputs": [
    {
     "name": "stdout",
     "output_type": "stream",
     "text": "['a', 'c', 'e', 'g']\n['Orange', 'Strawberry', 'Peach']\n"
    }
   ],
   "source": [
    "def skip_elements_2(elements):\n",
    "    # code goes here\n",
    "    new_elements = []\n",
    "    for index, element in enumerate(elements):\n",
    "        if index % 2 == 0:\n",
    "            new_elements.append(element)\n",
    "    return new_elements\n",
    "\n",
    "print(skip_elements_2([\"a\", \"b\", \"c\", \"d\", \"e\", \"f\", \"g\"])) # Should be ['a', 'c', 'e', 'g']\n",
    "print(skip_elements_2(['Orange', 'Pineapple', 'Strawberry', 'Kiwi', 'Peach'])) # Should be ['Orange', 'Strawberry', 'Peach']"
   ]
  },
  {
   "cell_type": "code",
   "execution_count": 22,
   "metadata": {},
   "outputs": [
    {
     "name": "stdout",
     "output_type": "stream",
     "text": "['Salman Farsi <sfjadi@gmail.com>', 'Farsi Salman <sfjadi2010@live.com>']\n"
    }
   ],
   "source": [
    "def full_emails(people):\n",
    "    result = []\n",
    "    for emial, name in people:\n",
    "        result.append(\"{} <{}>\".format(name, emial))\n",
    "    return result\n",
    "\n",
    "print(full_emails([(\"sfjadi@gmail.com\", \"Salman Farsi\"), (\"sfjadi2010@live.com\", \"Farsi Salman\")]))"
   ]
  },
  {
   "cell_type": "code",
   "execution_count": 23,
   "metadata": {},
   "outputs": [
    {
     "name": "stdout",
     "output_type": "stream",
     "text": "[7, 14, 21, 28, 35, 42, 49, 56, 63, 70]\n[6, 4, 4, 2, 4, 1]\n[0, 3, 6, 9, 12, 15, 18, 21, 24, 27, 30, 33, 36, 39, 42, 45, 48, 51, 54, 57, 60, 63, 66, 69, 72, 75, 78, 81, 84, 87, 90, 93, 96, 99]\n"
    }
   ],
   "source": [
    "# List Comprehensions - Let us create new lists based on sequences or ranges\n",
    "\n",
    "multiples = [ x*7 for x in range(1,11)]\n",
    "print(multiples)\n",
    "\n",
    "languages = [\"Python\", \"Perl\", \"Ruby\", \"Go\", \"Java\", \"C\"]\n",
    "lengths = [len(language) for language in languages]\n",
    "\n",
    "print(lengths)\n",
    "\n",
    "z = [x for x in range(0,101) if x % 3 == 0]\n",
    "print(z)"
   ]
  },
  {
   "cell_type": "code",
   "execution_count": 24,
   "metadata": {},
   "outputs": [
    {
     "name": "stdout",
     "output_type": "stream",
     "text": "['a', 'c', 'e', 'g']\n['Orange', 'Strawberry', 'Peach']\n"
    }
   ],
   "source": [
    "def skip_elements(elements):\n",
    "    return [elements[x] for x in range(len(elements)) if x % 2 == 0]\n",
    "    \n",
    "print(skip_elements([\"a\", \"b\", \"c\", \"d\", \"e\", \"f\", \"g\"])) # Should be ['a', 'c', 'e', 'g']\n",
    "print(skip_elements(['Orange', 'Pineapple', 'Strawberry', 'Kiwi', 'Peach'])) # Should be ['Orange', 'Strawberry', 'Peach']"
   ]
  },
  {
   "cell_type": "code",
   "execution_count": 25,
   "metadata": {},
   "outputs": [
    {
     "name": "stdout",
     "output_type": "stream",
     "text": "[('program.c', 'program.c'), ('stdio.hpp', 'stdio.h'), ('sample.hpp', 'sample.h'), ('a.out', 'a.out'), ('math.hpp', 'math.h'), ('hpp.out', 'hpp.out')]\n"
    }
   ],
   "source": [
    "filenames = [\"program.c\", \"stdio.hpp\", \"sample.hpp\", \"a.out\", \"math.hpp\", \"hpp.out\"]\n",
    "newfilenames = []\n",
    "\n",
    "for index in range(len(filenames)):\n",
    "    new_filename = filenames[index]\n",
    "    \n",
    "    if '.hpp' in new_filename:\n",
    "        new_filename = new_filename.replace('.hpp', '.h')\n",
    "\n",
    "    newfilenames.append((filenames[index], new_filename))\n",
    "\n",
    "print (newfilenames) # Should be [('program.c', 'program.c'), ('stdio.hpp', 'stdio.h'), ('sample.hpp', 'sample.h'), ('a.out', 'a.out'), ('math.hpp', 'math.h'), ('hpp.out', 'hpp.out')]"
   ]
  },
  {
   "cell_type": "code",
   "execution_count": 26,
   "metadata": {},
   "outputs": [],
   "source": [
    "# Test Synching"
   ]
  }
 ]
}
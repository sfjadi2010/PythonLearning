{
 "nbformat": 4,
 "nbformat_minor": 2,
 "metadata": {
  "language_info": {
   "name": "python",
   "codemirror_mode": {
    "name": "ipython",
    "version": 3
   },
   "version": "3.7.6-final"
  },
  "orig_nbformat": 2,
  "file_extension": ".py",
  "mimetype": "text/x-python",
  "name": "python",
  "npconvert_exporter": "python",
  "pygments_lexer": "ipython3",
  "version": 3,
  "kernelspec": {
   "name": "python37664bit52e9d47630614883bb3ca2271878325e",
   "display_name": "Python 3.7.6 64-bit"
  }
 },
 "cells": [
  {
   "cell_type": "code",
   "execution_count": null,
   "metadata": {},
   "outputs": [
    {
     "ename": "Error",
     "evalue": "Jupyter cannot be started. Error attempting to locate jupyter: 'Kernelspec' module not installed in the selected interpreter ({0}).\n Please re-install or update 'jupyter'.",
     "output_type": "error",
     "traceback": [
      "Error: Jupyter cannot be started. Error attempting to locate jupyter: 'Kernelspec' module not installed in the selected interpreter ({0}).",
      "Please re-install or update 'jupyter'.",
      "at A.startServer (c:\\Users\\sfjad\\.vscode\\extensions\\ms-python.python-2020.2.63072\\out\\client\\extension.js:1:781100)",
      "at async A.ensureServerAndNotebookImpl (c:\\Users\\sfjad\\.vscode\\extensions\\ms-python.python-2020.2.63072\\out\\client\\extension.js:1:780555)",
      "at async A.ensureServerAndNotebook (c:\\Users\\sfjad\\.vscode\\extensions\\ms-python.python-2020.2.63072\\out\\client\\extension.js:1:780356)",
      "at async A.submitCode (c:\\Users\\sfjad\\.vscode\\extensions\\ms-python.python-2020.2.63072\\out\\client\\extension.js:1:777738)",
      "at async A.reexecuteCell (c:\\Users\\sfjad\\.vscode\\extensions\\ms-python.python-2020.2.63072\\out\\client\\extension.js:75:879007)"
     ]
    }
   ],
   "source": [
    "# Week 1 Assignment Module"
   ]
  },
  {
   "cell_type": "code",
   "execution_count": null,
   "metadata": {},
   "outputs": [],
   "source": []
  }
 ]
}
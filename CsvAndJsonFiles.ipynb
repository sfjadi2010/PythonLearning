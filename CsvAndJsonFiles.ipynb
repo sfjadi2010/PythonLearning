{
 "nbformat": 4,
 "nbformat_minor": 2,
 "metadata": {
  "language_info": {
   "name": "python",
   "codemirror_mode": {
    "name": "ipython",
    "version": 3
   },
   "version": "3.7.5-final"
  },
  "orig_nbformat": 2,
  "file_extension": ".py",
  "mimetype": "text/x-python",
  "name": "python",
  "npconvert_exporter": "python",
  "pygments_lexer": "ipython3",
  "version": 3,
  "kernelspec": {
   "name": "python37564bitf134a8c0ad894b24bcea0170ff565578",
   "display_name": "Python 3.7.5 64-bit"
  }
 },
 "cells": [
  {
   "cell_type": "code",
   "execution_count": 23,
   "metadata": {},
   "outputs": [
    {
     "name": "stdout",
     "output_type": "stream",
     "text": "a pink carnation is annual\na yellow daffodil is perennial\na blue iris is perennial\na red poinsettia is perennial\na yellow sunflower is annual\n\n"
    }
   ],
   "source": [
    "import os\n",
    "import csv\n",
    "\n",
    "# Create a file with data in it\n",
    "def create_file(filename):\n",
    "  with open(filename, \"w\") as file:\n",
    "    file.write(\"name,color,type\\n\")\n",
    "    file.write(\"carnation,pink,annual\\n\")\n",
    "    file.write(\"daffodil,yellow,perennial\\n\")\n",
    "    file.write(\"iris,blue,perennial\\n\")\n",
    "    file.write(\"poinsettia,red,perennial\\n\")\n",
    "    file.write(\"sunflower,yellow,annual\\n\")\n",
    "\n",
    "# Read the file contents and format the information about each row\n",
    "def contents_of_file(filename):\n",
    "  return_string = \"\"\n",
    "\n",
    "  # Call the function to create the file \n",
    "  create_file(filename)\n",
    "\n",
    "  # Open the file\n",
    "  with open(filename) as flowers:\n",
    "    # Read the rows of the file into a dictionary\n",
    "    reader = csv.DictReader(flowers)\n",
    "    # Process each item of the dictionary\n",
    "    for row in reader:\n",
    "      return_string += \"a {} {} is {}\\n\".format(row[\"color\"], row[\"name\"], row[\"type\"])\n",
    "  return return_string\n",
    "\n",
    "#Call the function\n",
    "print(contents_of_file(\"flowers.csv\"))"
   ]
  },
  {
   "cell_type": "code",
   "execution_count": 27,
   "metadata": {},
   "outputs": [
    {
     "name": "stdout",
     "output_type": "stream",
     "text": "a carnation pink is annual\na daffodil yellow is perennial\na iris blue is perennial\na poinsettia red is perennial\na sunflower yellow is annual\n\n"
    }
   ],
   "source": [
    "import os\n",
    "import csv\n",
    "\n",
    "# Create a file with data in it\n",
    "def create_file(filename):\n",
    "  with open(filename, \"w\") as file:\n",
    "    file.write(\"name,color,type\\n\")\n",
    "    file.write(\"carnation,pink,annual\\n\")\n",
    "    file.write(\"daffodil,yellow,perennial\\n\")\n",
    "    file.write(\"iris,blue,perennial\\n\")\n",
    "    file.write(\"poinsettia,red,perennial\\n\")\n",
    "    file.write(\"sunflower,yellow,annual\\n\")\n",
    "\n",
    "# Read the file contents and format the information about each row\n",
    "def contents_of_file(filename):\n",
    "  return_string = \"\"\n",
    "\n",
    "  # Call the function to create the file \n",
    "  create_file(filename)\n",
    "\n",
    "  # Open the file\n",
    "  with open(filename) as flowers:\n",
    "    # Read the rows of the file\n",
    "    rows = csv.reader(flowers)\n",
    "    next(rows)\n",
    "    # Process each row    \n",
    "    for row in rows:\n",
    "      name, color, ftype = row\n",
    "      # Format the return string for data rows only\n",
    "      return_string += \"a {} {} is {}\\n\".format(name, color, ftype)\n",
    "\n",
    "    return return_string\n",
    "\n",
    "#Call the function\n",
    "print(contents_of_file(\"flowers.csv\"))"
   ]
  },
  {
   "cell_type": "code",
   "execution_count": 7,
   "metadata": {},
   "outputs": [
    {
     "name": "stdout",
     "output_type": "stream",
     "text": "Date: 4/5/2015 13:34, Name: Apples, Price: 73\nDate: 4/5/2015 3:41, Name: Cherries, Price: 85\nDate: 4/6/2015 12:46, Name: Pears, Price: 14\nDate: 4/8/2015 8:50, Name: Oranges, Price: 52\nDate: 4/10/2015 2:07, Name: Apples, Price: 152\nDate: 4/10/2015 18:10, Name: Bananas, Price: 23\nDate: 4/10/2015 2:40, Name: Strawberries, Price: 98\n"
    }
   ],
   "source": [
    "import csv\n",
    "\n",
    "with open(\"csv_file.txt\", \"w\") as file:\n",
    "    file.write(\"{} {},{},{}\\n\".format(\"4/5/2015\", \"13:34\", \"Apples\", 73))\n",
    "    file.write(\"{} {},{},{}\\n\".format(\"4/5/2015\", \"3:41\", \"Cherries\", 85))\n",
    "    file.write(\"{} {},{},{}\\n\".format(\"4/6/2015\", \"12:46\", \"Pears\", 14))\n",
    "    file.write(\"{} {},{},{}\\n\".format(\"4/8/2015\", \"8:50\", \"Oranges\", 52))\n",
    "    file.write(\"{} {},{},{}\\n\".format(\"4/10/2015\", \"2:07\", \"Apples\", 152))\n",
    "    file.write(\"{} {},{},{}\\n\".format(\"4/10/2015\", \"18:10\", \"Bananas\", 23))\n",
    "    file.write(\"{} {},{},{}\\n\".format(\"4/10/2015\", \"2:40\", \"Strawberries\", 98))\n",
    "\n",
    "\n",
    "with open(\"csv_file.txt\") as file:\n",
    "    csv_file = csv.reader(file)\n",
    "    for row in csv_file:\n",
    "        date, fruitname, cost = row\n",
    "        print(\"Date: {}, Name: {}, Price: {}\".format(date, fruitname, cost))\n",
    "        "
   ]
  },
  {
   "cell_type": "code",
   "execution_count": 10,
   "metadata": {},
   "outputs": [],
   "source": [
    "hosts = [[\"Workstation.local\", \"192.168.25.46\"], [\"Webserver.cloud\", \"10.2.5.6\"]]\n",
    "with open('hosts.csv', 'w') as hosts_csv:\n",
    "    writer = csv.writer(hosts_csv)\n",
    "    writer.writerows(hosts)"
   ]
  },
  {
   "cell_type": "code",
   "execution_count": 12,
   "metadata": {},
   "outputs": [],
   "source": [
    "softwares = [[\"name\", \"version\", \"status\", \"users\"], [\"Mailtree\", \"5.34\", \"production\", 324], [\"CallDoor\", \"1.25.1\", \"beta\", 22], [\"Chatty Chicken\", \"0.34\", \"alpha\", 4]]\n",
    "with open('software.csv', 'w') as software_csv:\n",
    "    writer = csv.writer(software_csv)\n",
    "    writer.writerows(softwares)"
   ]
  },
  {
   "cell_type": "code",
   "execution_count": 20,
   "metadata": {},
   "outputs": [
    {
     "name": "stdout",
     "output_type": "stream",
     "text": "Mailtree as 324 users\nCallDoor as 22 users\nChatty Chicken as 4 users\n"
    }
   ],
   "source": [
    "with open('software.csv') as softwares:\n",
    "    reader = csv.DictReader(softwares)\n",
    "    for row in reader:\n",
    "        print((\"{} as {} users\").format(row[\"name\"], row[\"users\"]))"
   ]
  },
  {
   "cell_type": "code",
   "execution_count": 22,
   "metadata": {},
   "outputs": [],
   "source": [
    "users = [{\"name\": \"Sol Mansi\", \"username\": \"solm\", \"department\": \"IT infrastructure\"},\n",
    "  {\"name\": \"Lio Nelson\", \"username\": \"lion\", \"department\": \"UX/UI R&\"},\n",
    "  {\"name\": \"Charlie Grey\", \"username\": \"greyc\", \"department\": \"Development\"},]\n",
    "keys = [\"name\", \"username\", \"department\"]\n",
    "with open(\"by_department.csv\", \"w\") as by_department:\n",
    "    writer = csv.DictWriter(by_department, fieldnames=keys)\n",
    "    writer.writeheader()\n",
    "    writer.writerows(users)"
   ]
  },
  {
   "cell_type": "code",
   "execution_count": null,
   "metadata": {},
   "outputs": [],
   "source": []
  }
 ]
}
{
 "nbformat": 4,
 "nbformat_minor": 2,
 "metadata": {
  "language_info": {
   "name": "python",
   "codemirror_mode": {
    "name": "ipython",
    "version": 3
   },
   "version": "3.7.5-final"
  },
  "orig_nbformat": 2,
  "file_extension": ".py",
  "mimetype": "text/x-python",
  "name": "python",
  "npconvert_exporter": "python",
  "pygments_lexer": "ipython3",
  "version": 3,
  "kernelspec": {
   "name": "python37564bitf134a8c0ad894b24bcea0170ff565578",
   "display_name": "Python 3.7.5 64-bit"
  }
 },
 "cells": [
  {
   "cell_type": "code",
   "execution_count": null,
   "metadata": {},
   "outputs": [],
   "source": [
    "# Reference material links\n",
    "\n",
    "#Check out the following links for more information:\n",
    "\n",
    "### https://docs.python.org/3/howto/regex.html\n",
    "### https://docs.python.org/3/library/re.html\n",
    "### https://docs.python.org/3/howto/regex.html#greedy-versus-non-greedy\n",
    "### Shout out to regex101.com, which will explain each stage of a regex.\n",
    "\n"
   ]
  },
  {
   "cell_type": "code",
   "execution_count": 6,
   "metadata": {},
   "outputs": [
    {
     "name": "stdout",
     "output_type": "stream",
     "text": "<re.Match object; span=(2, 5), match='aza'>\n<re.Match object; span=(1, 4), match='aza'>\nNone\n<re.Match object; span=(0, 1), match='x'>\nNone\n<re.Match object; span=(0, 1), match='x'>\n<re.Match object; span=(0, 3), match='pen'>\n<re.Match object; span=(4, 7), match='pin'>\n<re.Match object; span=(1, 4), match='pon'>\n"
    }
   ],
   "source": [
    "import re\n",
    "result = re.search(r\"aza\", \"plaza\")\n",
    "print(result)\n",
    "result = re.search(r\"aza\", \"bazaar\")\n",
    "print(result)\n",
    "result = re.search(r\"aza\", \"maze\")\n",
    "print(result)\n",
    "\n",
    "print(re.search(r\"^x\", \"xenon\"))\n",
    "print(re.search(r\"^x\", \"axe\"))\n",
    "print(re.search(r\"^x\", \"xerox\"))\n",
    "\n",
    "print(re.search(r\"p.n\", \"penguin\"))\n",
    "print(re.search(r\"p.n\", \"clapping\"))\n",
    "print(re.search(r\"p.n\", \"sponge\"))"
   ]
  },
  {
   "cell_type": "code",
   "execution_count": null,
   "metadata": {},
   "outputs": [],
   "source": [
    "#Fill in the code to check if the text passed contains the vowels a, e and i, with exactly one occurrence of any other character in between.\n",
    "\n",
    "import re\n",
    "def check_aei (text):\n",
    "  result = re.search(r\".a.e.i\", text)\n",
    "  return result != None\n",
    "\n",
    "print(check_aei(\"academia\")) # True\n",
    "print(check_aei(\"aerial\")) # False\n",
    "print(check_aei(\"paramedic\")) # True"
   ]
  },
  {
   "cell_type": "code",
   "execution_count": 11,
   "metadata": {},
   "outputs": [
    {
     "name": "stdout",
     "output_type": "stream",
     "text": "<re.Match object; span=(0, 6), match='Python'>\n<re.Match object; span=(18, 22), match='hway'>\nNone\n"
    }
   ],
   "source": [
    "print(re.search(r\"[Pp]ython\", \"Python\"))\n",
    "print(re.search(r\"[a-z]way\", \"The end of the highway, this way is not going to highway\"))\n",
    "print(re.search(r\"[a-z]way\", \"What is the name of this way\"))"
   ]
  },
  {
   "cell_type": "code",
   "execution_count": 15,
   "metadata": {},
   "outputs": [
    {
     "name": "stdout",
     "output_type": "stream",
     "text": "True\nFalse\nTrue\nTrue\nFalse\n"
    }
   ],
   "source": [
    "import re\n",
    "def check_punctuation (text):\n",
    "  result = re.search(r\"[,.:;?!]\", text)\n",
    "  return result != None\n",
    "\n",
    "print(check_punctuation(\"This is a sentence that ends with a period.\")) # True\n",
    "print(check_punctuation(\"This is a sentence fragment without a period\")) # False\n",
    "print(check_punctuation(\"Aren't regular expressions awesome?\")) # True\n",
    "print(check_punctuation(\"Wow! We're really picking up some steam now!\")) # True\n",
    "print(check_punctuation(\"End of the line\")) # False"
   ]
  },
  {
   "cell_type": "code",
   "execution_count": 30,
   "metadata": {},
   "outputs": [
    {
     "name": "stdout",
     "output_type": "stream",
     "text": "<re.Match object; span=(0, 6), match='Cloud8'>\n<re.Match object; span=(4, 5), match=' '>\n<re.Match object; span=(30, 31), match='.'>\n<re.Match object; span=(0, 7), match='Pygoman'>\n<re.Match object; span=(0, 17), match='Python programmin'>\n<re.Match object; span=(0, 6), match='Python'>\n<re.Match object; span=(1, 3), match='ol'>\n<re.Match object; span=(1, 4), match='oll'>\n<re.Match object; span=(0, 2), match='ol'>\nNone\n<re.Match object; span=(3, 7), match='each'>\n<re.Match object; span=(7, 12), match='peach'>\n<re.Match object; span=(13, 17), match='lman'>\n"
    }
   ],
   "source": [
    "print(re.search(\"cloud[a-zA-Z0-9]\", \"Cloud8y\", re.IGNORECASE))\n",
    "print(re.search(r\"[^a-zA-Z]\", \"This is a sentence with spaces.\")) # matches any non character\n",
    "print(re.search(r\"[^a-zA-Z ]\", \"This is a sentence with spaces.\")) # matches any non character but space\n",
    "\n",
    "# searching with (*)\n",
    "print(re.search(r\"Py.*n\", \"Pygomania\"))\n",
    "print(re.search(r\"Py.*n\", \"Python programming\"))\n",
    "print(re.search(r\"Py[a-z]*n\", \"Python programming\"))\n",
    "\n",
    "# searching with (+)\n",
    "print(re.search(r\"o+l+\", \"goldfish\"))\n",
    "print(re.search(r\"o+l+\", \"wolly\"))\n",
    "print(re.search(r\"o+l+\", \"oldie\"))\n",
    "print(re.search(r\"o+l+\", \"boil\"))\n",
    "\n",
    "# search with (?)\n",
    "print(re.search(r\"p?each\", \"To each their own\"))\n",
    "print(re.search(r\"p?each\", \"I like peaches\"))\n",
    "print(re.search(r\"l?man\", \"my name is salman\"))"
   ]
  },
  {
   "cell_type": "code",
   "execution_count": 38,
   "metadata": {},
   "outputs": [
    {
     "name": "stdout",
     "output_type": "stream",
     "text": "<re.Match object; span=(2, 6), match='lcom'>\nNone\n<re.Match object; span=(15, 19), match='.com'>\n<re.Match object; span=(0, 4), match='this'>\n<re.Match object; span=(0, 20), match='_and_this_is_another'>\n<re.Match object; span=(0, 9), match='Argentina'>\nNone\n<re.Match object; span=(0, 9), match='Australia'>\n<re.Match object; span=(0, 9), match='Azerbiaja'>\n"
    }
   ],
   "source": [
    "### .*+?^$[] - www.regex101.com\n",
    "\n",
    "print(re.search(r\".com\", \"welcome\"))\n",
    "print(re.search(r\"\\.com\", \"welcome\"))\n",
    "print(re.search(r\"\\.com\", \"sfjadi2010@live.com\"))\n",
    "print(re.search(r\"\\w*\", \"this is an example\"))\n",
    "print(re.search(r\"\\w*\", \"_and_this_is_another\"))\n",
    "\n",
    "print(re.search(r\"A.*a$\", \"Argentina\"))\n",
    "print(re.search(r\"A.*a$\", \"Azerbiajan\"))\n",
    "print(re.search(r\"A.*a$\", \"Australia\"))\n",
    "print(re.search(r\"A.*a\", \"Azerbiajan\"))"
   ]
  },
  {
   "cell_type": "code",
   "execution_count": 91,
   "metadata": {},
   "outputs": [
    {
     "name": "stdout",
     "output_type": "stream",
     "text": "True\nFalse\nFalse\nFalse\nTrue\n"
    }
   ],
   "source": [
    "import re\n",
    "def check_sentence(text):\n",
    "  result = re.search(r\"^[A-Z].*\\w[.?!]$\", text)\n",
    "  return result != None\n",
    "\n",
    "print(check_sentence(\"Is this is a sentence?\")) # True\n",
    "print(check_sentence(\"is this is a sentence?\")) # False\n",
    "print(check_sentence(\"Hello\")) # False\n",
    "print(check_sentence(\"1-2-3-GO!\")) # False\n",
    "print(check_sentence(\"A star is born.\")) # True"
   ]
  },
  {
   "cell_type": "code",
   "execution_count": 142,
   "metadata": {},
   "outputs": [
    {
     "name": "stdout",
     "output_type": "stream",
     "text": "True\nTrue\nTrue\nTrue\nTrue\n"
    }
   ],
   "source": [
    "import re\n",
    "def check_web_address(text):\n",
    "  pattern = \"[a-zA-Z-\\+]\\.*$\"\n",
    "  result = re.search(pattern, text)\n",
    "  return result != None\n",
    "\n",
    "print(check_web_address(\"gmail.com\")) # True\n",
    "print(check_web_address(\"www@google\")) # False\n",
    "print(check_web_address(\"www.Coursera.org\")) # True\n",
    "print(check_web_address(\"web-address.com/homepage\")) # False\n",
    "print(check_web_address(\"My_Favorite-Blog.US\")) # True"
   ]
  },
  {
   "cell_type": "code",
   "execution_count": null,
   "metadata": {},
   "outputs": [],
   "source": []
  }
 ]
}